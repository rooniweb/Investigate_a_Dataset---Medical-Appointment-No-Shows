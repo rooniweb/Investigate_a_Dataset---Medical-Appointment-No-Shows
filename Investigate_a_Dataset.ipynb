{
 "cells": [
  {
   "cell_type": "markdown",
   "metadata": {},
   "source": [
    "![dataset-cover.png](img/dataset-cover.png)\n",
    "\n",
    "# Project: Investigate a Dataset - [Medical Appointment No Shows]\n",
    "\n",
    "## Table of Contents\n",
    "<ul>\n",
    "<li><a href=\"#intro\">Introduction</a></li>\n",
    "<li><a href=\"#wrangling\">Data Wrangling</a></li>\n",
    "<li><a href=\"#eda\">Exploratory Data Analysis</a></li>\n",
    "<li><a href=\"#conclusions\">Conclusions</a></li>\n",
    "</ul>"
   ]
  },
  {
   "cell_type": "markdown",
   "metadata": {},
   "source": [
    "<a id='intro'></a>\n",
    "## Introduction\n",
    "\n",
    "### Dataset Description \n",
    "\n",
    ">**Présentation**: Cet ensemble de données recueille des informations sur **110.527** rendez-vous médicaux et **14** variables associées au Brésil et se concentre sur la question de savoir si les patients se présentent ou non à leur rendez-vous. Un certain nombre de caractéristiques concernant le patient sont incluses dans chaque ligne. \n",
    "[source](https://www.kaggle.com/code/mostafarefaatm/medical-appointment-no-show).\n",
    "\n",
    ">**Dictionnaire de données** :<br>\n",
    "*`01 - PatientId`* : Identifiant du patient <br>\n",
    "*`02 - AppointmentID`* : Identifiant de chaque rendez-vous <br>\n",
    "*`03 - Gender`* : Male ou Femele . La femme est la plus grande proportion, la femme prend beaucoup plus soin de sa santé que l'homme.<br>\n",
    "*`04 - DataMarcacaoConsulta`* : Le jour du rendez-vous, où ils doivent se rendre chez le médecin.<br>\n",
    "*`05 - DataAgendamento`* : Le jour où quelqu'un a appelé ou enregistré le rendez-vous, c'est avant le rendez-vous bien sûr.<br>\n",
    "*`06 - Age`* : Quel âge a le patient.<br>\n",
    "*`07 - Neighbourhood`* : Où le rendez-vous a lieu.<br>\n",
    "*`08 - Scholarship`* : True ou False. Observation, c'est un vaste sujet, pensez à lire cet [article](https://en.wikipedia.org/wiki/Bolsa_Fam%C3%ADlia).<br>\n",
    "*`09 - Hipertension`* : True ou False.<br>\n",
    "*`10 - Diabetes`* : True ou False. <br>\n",
    "*`11 - Alcoholism`* : True ou False. <br>\n",
    "*`12 - Handcap`* : (Bonnet) True ou False. <br>\n",
    "*`13 - SMS_reçu`* : SMS reçu 1 ou plusieurs messages envoyés au patient. <br>\n",
    "*`14 - No-show`* : (Non-présentation) True ou False.\n",
    "\n",
    "\n",
    "### Question(s) for Analysis\n",
    ">**Q1**: Une personne prend rendez-vous chez le médecin, reçoit toutes les instructions et ne se présente pas. Qui blâmer ?\n",
    "\n",
    "> **Q2**: Quels facteurs tenir en compte pour éviter celà pour les prochains patients ? "
   ]
  },
  {
   "cell_type": "markdown",
   "metadata": {},
   "source": [
    "<a id='wrangling'></a>\n",
    "## Data Wrangling\n",
    "\n",
    "\n",
    "\n",
    "### General Properties"
   ]
  },
  {
   "cell_type": "code",
   "execution_count": 55,
   "metadata": {},
   "outputs": [],
   "source": [
    "import numpy as np\n",
    "import pandas as pd\n",
    "import matplotlib.pyplot as plt\n",
    "import seaborn as sn\n",
    "from datetime import datetime as dt\n",
    "%matplotlib inline"
   ]
  },
  {
   "cell_type": "code",
   "execution_count": 56,
   "metadata": {},
   "outputs": [
    {
     "data": {
      "text/html": [
       "<div>\n",
       "<style scoped>\n",
       "    .dataframe tbody tr th:only-of-type {\n",
       "        vertical-align: middle;\n",
       "    }\n",
       "\n",
       "    .dataframe tbody tr th {\n",
       "        vertical-align: top;\n",
       "    }\n",
       "\n",
       "    .dataframe thead th {\n",
       "        text-align: right;\n",
       "    }\n",
       "</style>\n",
       "<table border=\"1\" class=\"dataframe\">\n",
       "  <thead>\n",
       "    <tr style=\"text-align: right;\">\n",
       "      <th></th>\n",
       "      <th>PatientId</th>\n",
       "      <th>AppointmentID</th>\n",
       "      <th>Gender</th>\n",
       "      <th>ScheduledDay</th>\n",
       "      <th>AppointmentDay</th>\n",
       "      <th>Age</th>\n",
       "      <th>Neighbourhood</th>\n",
       "      <th>Scholarship</th>\n",
       "      <th>Hipertension</th>\n",
       "      <th>Diabetes</th>\n",
       "      <th>Alcoholism</th>\n",
       "      <th>Handcap</th>\n",
       "      <th>SMS_received</th>\n",
       "      <th>No-show</th>\n",
       "    </tr>\n",
       "  </thead>\n",
       "  <tbody>\n",
       "    <tr>\n",
       "      <th>0</th>\n",
       "      <td>2.987250e+13</td>\n",
       "      <td>5642903</td>\n",
       "      <td>F</td>\n",
       "      <td>2016-04-29T18:38:08Z</td>\n",
       "      <td>2016-04-29T00:00:00Z</td>\n",
       "      <td>62</td>\n",
       "      <td>JARDIM DA PENHA</td>\n",
       "      <td>0</td>\n",
       "      <td>1</td>\n",
       "      <td>0</td>\n",
       "      <td>0</td>\n",
       "      <td>0</td>\n",
       "      <td>0</td>\n",
       "      <td>No</td>\n",
       "    </tr>\n",
       "    <tr>\n",
       "      <th>1</th>\n",
       "      <td>5.589978e+14</td>\n",
       "      <td>5642503</td>\n",
       "      <td>M</td>\n",
       "      <td>2016-04-29T16:08:27Z</td>\n",
       "      <td>2016-04-29T00:00:00Z</td>\n",
       "      <td>56</td>\n",
       "      <td>JARDIM DA PENHA</td>\n",
       "      <td>0</td>\n",
       "      <td>0</td>\n",
       "      <td>0</td>\n",
       "      <td>0</td>\n",
       "      <td>0</td>\n",
       "      <td>0</td>\n",
       "      <td>No</td>\n",
       "    </tr>\n",
       "    <tr>\n",
       "      <th>2</th>\n",
       "      <td>4.262962e+12</td>\n",
       "      <td>5642549</td>\n",
       "      <td>F</td>\n",
       "      <td>2016-04-29T16:19:04Z</td>\n",
       "      <td>2016-04-29T00:00:00Z</td>\n",
       "      <td>62</td>\n",
       "      <td>MATA DA PRAIA</td>\n",
       "      <td>0</td>\n",
       "      <td>0</td>\n",
       "      <td>0</td>\n",
       "      <td>0</td>\n",
       "      <td>0</td>\n",
       "      <td>0</td>\n",
       "      <td>No</td>\n",
       "    </tr>\n",
       "    <tr>\n",
       "      <th>3</th>\n",
       "      <td>8.679512e+11</td>\n",
       "      <td>5642828</td>\n",
       "      <td>F</td>\n",
       "      <td>2016-04-29T17:29:31Z</td>\n",
       "      <td>2016-04-29T00:00:00Z</td>\n",
       "      <td>8</td>\n",
       "      <td>PONTAL DE CAMBURI</td>\n",
       "      <td>0</td>\n",
       "      <td>0</td>\n",
       "      <td>0</td>\n",
       "      <td>0</td>\n",
       "      <td>0</td>\n",
       "      <td>0</td>\n",
       "      <td>No</td>\n",
       "    </tr>\n",
       "    <tr>\n",
       "      <th>4</th>\n",
       "      <td>8.841186e+12</td>\n",
       "      <td>5642494</td>\n",
       "      <td>F</td>\n",
       "      <td>2016-04-29T16:07:23Z</td>\n",
       "      <td>2016-04-29T00:00:00Z</td>\n",
       "      <td>56</td>\n",
       "      <td>JARDIM DA PENHA</td>\n",
       "      <td>0</td>\n",
       "      <td>1</td>\n",
       "      <td>1</td>\n",
       "      <td>0</td>\n",
       "      <td>0</td>\n",
       "      <td>0</td>\n",
       "      <td>No</td>\n",
       "    </tr>\n",
       "  </tbody>\n",
       "</table>\n",
       "</div>"
      ],
      "text/plain": [
       "      PatientId  AppointmentID Gender          ScheduledDay  \\\n",
       "0  2.987250e+13        5642903      F  2016-04-29T18:38:08Z   \n",
       "1  5.589978e+14        5642503      M  2016-04-29T16:08:27Z   \n",
       "2  4.262962e+12        5642549      F  2016-04-29T16:19:04Z   \n",
       "3  8.679512e+11        5642828      F  2016-04-29T17:29:31Z   \n",
       "4  8.841186e+12        5642494      F  2016-04-29T16:07:23Z   \n",
       "\n",
       "         AppointmentDay  Age      Neighbourhood  Scholarship  Hipertension  \\\n",
       "0  2016-04-29T00:00:00Z   62    JARDIM DA PENHA            0             1   \n",
       "1  2016-04-29T00:00:00Z   56    JARDIM DA PENHA            0             0   \n",
       "2  2016-04-29T00:00:00Z   62      MATA DA PRAIA            0             0   \n",
       "3  2016-04-29T00:00:00Z    8  PONTAL DE CAMBURI            0             0   \n",
       "4  2016-04-29T00:00:00Z   56    JARDIM DA PENHA            0             1   \n",
       "\n",
       "   Diabetes  Alcoholism  Handcap  SMS_received No-show  \n",
       "0         0           0        0             0      No  \n",
       "1         0           0        0             0      No  \n",
       "2         0           0        0             0      No  \n",
       "3         0           0        0             0      No  \n",
       "4         1           0        0             0      No  "
      ]
     },
     "execution_count": 56,
     "metadata": {},
     "output_type": "execute_result"
    }
   ],
   "source": [
    "df = pd.read_csv('datasets/KaggleV2-May-2016.csv')\n",
    "df.head()"
   ]
  },
  {
   "cell_type": "code",
   "execution_count": 57,
   "metadata": {},
   "outputs": [
    {
     "name": "stdout",
     "output_type": "stream",
     "text": [
      "Ce jeu de données compte 110527 lignes et 14 colonnes comme énoncé plus tôt !\n"
     ]
    }
   ],
   "source": [
    "print(\"Ce jeu de données compte {} lignes et {} colonnes comme énoncé plus tôt !\".format(df.shape[0],df.shape[1]))"
   ]
  },
  {
   "cell_type": "code",
   "execution_count": 58,
   "metadata": {},
   "outputs": [
    {
     "name": "stdout",
     "output_type": "stream",
     "text": [
      "<class 'pandas.core.frame.DataFrame'>\n",
      "RangeIndex: 110527 entries, 0 to 110526\n",
      "Data columns (total 14 columns):\n",
      " #   Column          Non-Null Count   Dtype  \n",
      "---  ------          --------------   -----  \n",
      " 0   PatientId       110527 non-null  float64\n",
      " 1   AppointmentID   110527 non-null  int64  \n",
      " 2   Gender          110527 non-null  object \n",
      " 3   ScheduledDay    110527 non-null  object \n",
      " 4   AppointmentDay  110527 non-null  object \n",
      " 5   Age             110527 non-null  int64  \n",
      " 6   Neighbourhood   110527 non-null  object \n",
      " 7   Scholarship     110527 non-null  int64  \n",
      " 8   Hipertension    110527 non-null  int64  \n",
      " 9   Diabetes        110527 non-null  int64  \n",
      " 10  Alcoholism      110527 non-null  int64  \n",
      " 11  Handcap         110527 non-null  int64  \n",
      " 12  SMS_received    110527 non-null  int64  \n",
      " 13  No-show         110527 non-null  object \n",
      "dtypes: float64(1), int64(8), object(5)\n",
      "memory usage: 11.8+ MB\n"
     ]
    }
   ],
   "source": [
    "# Découverte des données\n",
    "df.info()"
   ]
  },
  {
   "cell_type": "code",
   "execution_count": 59,
   "metadata": {},
   "outputs": [
    {
     "data": {
      "text/html": [
       "<div>\n",
       "<style scoped>\n",
       "    .dataframe tbody tr th:only-of-type {\n",
       "        vertical-align: middle;\n",
       "    }\n",
       "\n",
       "    .dataframe tbody tr th {\n",
       "        vertical-align: top;\n",
       "    }\n",
       "\n",
       "    .dataframe thead th {\n",
       "        text-align: right;\n",
       "    }\n",
       "</style>\n",
       "<table border=\"1\" class=\"dataframe\">\n",
       "  <thead>\n",
       "    <tr style=\"text-align: right;\">\n",
       "      <th></th>\n",
       "      <th>PatientId</th>\n",
       "      <th>AppointmentID</th>\n",
       "      <th>Age</th>\n",
       "      <th>Scholarship</th>\n",
       "      <th>Hipertension</th>\n",
       "      <th>Diabetes</th>\n",
       "      <th>Alcoholism</th>\n",
       "      <th>Handcap</th>\n",
       "      <th>SMS_received</th>\n",
       "    </tr>\n",
       "  </thead>\n",
       "  <tbody>\n",
       "    <tr>\n",
       "      <th>count</th>\n",
       "      <td>1.105270e+05</td>\n",
       "      <td>1.105270e+05</td>\n",
       "      <td>110527.000000</td>\n",
       "      <td>110527.000000</td>\n",
       "      <td>110527.000000</td>\n",
       "      <td>110527.000000</td>\n",
       "      <td>110527.000000</td>\n",
       "      <td>110527.000000</td>\n",
       "      <td>110527.000000</td>\n",
       "    </tr>\n",
       "    <tr>\n",
       "      <th>mean</th>\n",
       "      <td>1.474963e+14</td>\n",
       "      <td>5.675305e+06</td>\n",
       "      <td>37.088874</td>\n",
       "      <td>0.098266</td>\n",
       "      <td>0.197246</td>\n",
       "      <td>0.071865</td>\n",
       "      <td>0.030400</td>\n",
       "      <td>0.022248</td>\n",
       "      <td>0.321026</td>\n",
       "    </tr>\n",
       "    <tr>\n",
       "      <th>std</th>\n",
       "      <td>2.560949e+14</td>\n",
       "      <td>7.129575e+04</td>\n",
       "      <td>23.110205</td>\n",
       "      <td>0.297675</td>\n",
       "      <td>0.397921</td>\n",
       "      <td>0.258265</td>\n",
       "      <td>0.171686</td>\n",
       "      <td>0.161543</td>\n",
       "      <td>0.466873</td>\n",
       "    </tr>\n",
       "    <tr>\n",
       "      <th>min</th>\n",
       "      <td>3.921784e+04</td>\n",
       "      <td>5.030230e+06</td>\n",
       "      <td>-1.000000</td>\n",
       "      <td>0.000000</td>\n",
       "      <td>0.000000</td>\n",
       "      <td>0.000000</td>\n",
       "      <td>0.000000</td>\n",
       "      <td>0.000000</td>\n",
       "      <td>0.000000</td>\n",
       "    </tr>\n",
       "    <tr>\n",
       "      <th>25%</th>\n",
       "      <td>4.172614e+12</td>\n",
       "      <td>5.640286e+06</td>\n",
       "      <td>18.000000</td>\n",
       "      <td>0.000000</td>\n",
       "      <td>0.000000</td>\n",
       "      <td>0.000000</td>\n",
       "      <td>0.000000</td>\n",
       "      <td>0.000000</td>\n",
       "      <td>0.000000</td>\n",
       "    </tr>\n",
       "    <tr>\n",
       "      <th>50%</th>\n",
       "      <td>3.173184e+13</td>\n",
       "      <td>5.680573e+06</td>\n",
       "      <td>37.000000</td>\n",
       "      <td>0.000000</td>\n",
       "      <td>0.000000</td>\n",
       "      <td>0.000000</td>\n",
       "      <td>0.000000</td>\n",
       "      <td>0.000000</td>\n",
       "      <td>0.000000</td>\n",
       "    </tr>\n",
       "    <tr>\n",
       "      <th>75%</th>\n",
       "      <td>9.439172e+13</td>\n",
       "      <td>5.725524e+06</td>\n",
       "      <td>55.000000</td>\n",
       "      <td>0.000000</td>\n",
       "      <td>0.000000</td>\n",
       "      <td>0.000000</td>\n",
       "      <td>0.000000</td>\n",
       "      <td>0.000000</td>\n",
       "      <td>1.000000</td>\n",
       "    </tr>\n",
       "    <tr>\n",
       "      <th>max</th>\n",
       "      <td>9.999816e+14</td>\n",
       "      <td>5.790484e+06</td>\n",
       "      <td>115.000000</td>\n",
       "      <td>1.000000</td>\n",
       "      <td>1.000000</td>\n",
       "      <td>1.000000</td>\n",
       "      <td>1.000000</td>\n",
       "      <td>4.000000</td>\n",
       "      <td>1.000000</td>\n",
       "    </tr>\n",
       "  </tbody>\n",
       "</table>\n",
       "</div>"
      ],
      "text/plain": [
       "          PatientId  AppointmentID            Age    Scholarship  \\\n",
       "count  1.105270e+05   1.105270e+05  110527.000000  110527.000000   \n",
       "mean   1.474963e+14   5.675305e+06      37.088874       0.098266   \n",
       "std    2.560949e+14   7.129575e+04      23.110205       0.297675   \n",
       "min    3.921784e+04   5.030230e+06      -1.000000       0.000000   \n",
       "25%    4.172614e+12   5.640286e+06      18.000000       0.000000   \n",
       "50%    3.173184e+13   5.680573e+06      37.000000       0.000000   \n",
       "75%    9.439172e+13   5.725524e+06      55.000000       0.000000   \n",
       "max    9.999816e+14   5.790484e+06     115.000000       1.000000   \n",
       "\n",
       "        Hipertension       Diabetes     Alcoholism        Handcap  \\\n",
       "count  110527.000000  110527.000000  110527.000000  110527.000000   \n",
       "mean        0.197246       0.071865       0.030400       0.022248   \n",
       "std         0.397921       0.258265       0.171686       0.161543   \n",
       "min         0.000000       0.000000       0.000000       0.000000   \n",
       "25%         0.000000       0.000000       0.000000       0.000000   \n",
       "50%         0.000000       0.000000       0.000000       0.000000   \n",
       "75%         0.000000       0.000000       0.000000       0.000000   \n",
       "max         1.000000       1.000000       1.000000       4.000000   \n",
       "\n",
       "        SMS_received  \n",
       "count  110527.000000  \n",
       "mean        0.321026  \n",
       "std         0.466873  \n",
       "min         0.000000  \n",
       "25%         0.000000  \n",
       "50%         0.000000  \n",
       "75%         1.000000  \n",
       "max         1.000000  "
      ]
     },
     "execution_count": 59,
     "metadata": {},
     "output_type": "execute_result"
    }
   ],
   "source": [
    "# Description du jeux de données\n",
    "df.describe()"
   ]
  },
  {
   "cell_type": "code",
   "execution_count": 60,
   "metadata": {},
   "outputs": [
    {
     "data": {
      "text/plain": [
       "PatientId         0\n",
       "AppointmentID     0\n",
       "Gender            0\n",
       "ScheduledDay      0\n",
       "AppointmentDay    0\n",
       "Age               0\n",
       "Neighbourhood     0\n",
       "Scholarship       0\n",
       "Hipertension      0\n",
       "Diabetes          0\n",
       "Alcoholism        0\n",
       "Handcap           0\n",
       "SMS_received      0\n",
       "No-show           0\n",
       "dtype: int64"
      ]
     },
     "execution_count": 60,
     "metadata": {},
     "output_type": "execute_result"
    }
   ],
   "source": [
    "# Recherche de vameurs manquantes\n",
    "df.isnull().sum()"
   ]
  },
  {
   "cell_type": "markdown",
   "metadata": {},
   "source": [
    "*Ce jeu de onnées ne compte pas de données manquantes, une aubaine en analyse de données !*"
   ]
  },
  {
   "cell_type": "code",
   "execution_count": 61,
   "metadata": {},
   "outputs": [
    {
     "data": {
      "text/plain": [
       "0"
      ]
     },
     "execution_count": 61,
     "metadata": {},
     "output_type": "execute_result"
    }
   ],
   "source": [
    "df.duplicated().sum()"
   ]
  },
  {
   "cell_type": "markdown",
   "metadata": {},
   "source": [
    "*Pas d'enregistrement dupliqué aussi !*"
   ]
  },
  {
   "cell_type": "markdown",
   "metadata": {},
   "source": [
    "**Conclusion Partielle de l'étape**\n",
    "> * Les Patients ont des ages compris entre -1(valeur abérente) et 115 avec une moyenne de 37 ans, donc relativement assez jeunes ! <br>\n",
    "> * 32 % des patients ont reçu un sms\n",
    "> * 7.18 % d'entre eux sont diabétiques\n",
    "> * 19.7 % sont hypertendus\n",
    "> * 3 % sont alcholiques et 2.22 % portent des bonnets"
   ]
  },
  {
   "cell_type": "markdown",
   "metadata": {},
   "source": [
    "\n",
    "### Data Cleaning\n",
    "> **Objecif de l'étape**: Après la découverte de notre jeu de données et les intuitions développées pour résoudre notre porblématique, nous allons procéder ainsi pour préparer nos données à l'exploration : \n",
    ">* Selectionner les données nécessaires à notre études\n",
    ">* Définir en minuscule tous nos noms de colonnes et les corriger\n",
    ">* Formatage de la date (possible recherche de feature)\n",
    ">* Recherche de valeurs abérentes ou absurdes et les corriger ou supprimer"
   ]
  },
  {
   "cell_type": "markdown",
   "metadata": {},
   "source": [
    "##### Selectionner des colonnes revient à supprimer certains"
   ]
  },
  {
   "cell_type": "markdown",
   "metadata": {},
   "source": [
    "Nous allons supprimer ceux si car elles sont spécifiques à chaque personne, donc ne nous renseigne rien sur l'ensemble du dataset"
   ]
  },
  {
   "cell_type": "code",
   "execution_count": 62,
   "metadata": {},
   "outputs": [],
   "source": [
    "df.drop(['AppointmentID','PatientId'], axis=1, inplace=True)"
   ]
  },
  {
   "cell_type": "code",
   "execution_count": 63,
   "metadata": {},
   "outputs": [
    {
     "data": {
      "text/html": [
       "<div>\n",
       "<style scoped>\n",
       "    .dataframe tbody tr th:only-of-type {\n",
       "        vertical-align: middle;\n",
       "    }\n",
       "\n",
       "    .dataframe tbody tr th {\n",
       "        vertical-align: top;\n",
       "    }\n",
       "\n",
       "    .dataframe thead th {\n",
       "        text-align: right;\n",
       "    }\n",
       "</style>\n",
       "<table border=\"1\" class=\"dataframe\">\n",
       "  <thead>\n",
       "    <tr style=\"text-align: right;\">\n",
       "      <th></th>\n",
       "      <th>Gender</th>\n",
       "      <th>ScheduledDay</th>\n",
       "      <th>AppointmentDay</th>\n",
       "      <th>Age</th>\n",
       "      <th>Neighbourhood</th>\n",
       "      <th>Scholarship</th>\n",
       "      <th>Hipertension</th>\n",
       "      <th>Diabetes</th>\n",
       "      <th>Alcoholism</th>\n",
       "      <th>Handcap</th>\n",
       "      <th>SMS_received</th>\n",
       "      <th>No-show</th>\n",
       "    </tr>\n",
       "  </thead>\n",
       "  <tbody>\n",
       "    <tr>\n",
       "      <th>0</th>\n",
       "      <td>F</td>\n",
       "      <td>2016-04-29T18:38:08Z</td>\n",
       "      <td>2016-04-29T00:00:00Z</td>\n",
       "      <td>62</td>\n",
       "      <td>JARDIM DA PENHA</td>\n",
       "      <td>0</td>\n",
       "      <td>1</td>\n",
       "      <td>0</td>\n",
       "      <td>0</td>\n",
       "      <td>0</td>\n",
       "      <td>0</td>\n",
       "      <td>No</td>\n",
       "    </tr>\n",
       "    <tr>\n",
       "      <th>1</th>\n",
       "      <td>M</td>\n",
       "      <td>2016-04-29T16:08:27Z</td>\n",
       "      <td>2016-04-29T00:00:00Z</td>\n",
       "      <td>56</td>\n",
       "      <td>JARDIM DA PENHA</td>\n",
       "      <td>0</td>\n",
       "      <td>0</td>\n",
       "      <td>0</td>\n",
       "      <td>0</td>\n",
       "      <td>0</td>\n",
       "      <td>0</td>\n",
       "      <td>No</td>\n",
       "    </tr>\n",
       "    <tr>\n",
       "      <th>2</th>\n",
       "      <td>F</td>\n",
       "      <td>2016-04-29T16:19:04Z</td>\n",
       "      <td>2016-04-29T00:00:00Z</td>\n",
       "      <td>62</td>\n",
       "      <td>MATA DA PRAIA</td>\n",
       "      <td>0</td>\n",
       "      <td>0</td>\n",
       "      <td>0</td>\n",
       "      <td>0</td>\n",
       "      <td>0</td>\n",
       "      <td>0</td>\n",
       "      <td>No</td>\n",
       "    </tr>\n",
       "    <tr>\n",
       "      <th>3</th>\n",
       "      <td>F</td>\n",
       "      <td>2016-04-29T17:29:31Z</td>\n",
       "      <td>2016-04-29T00:00:00Z</td>\n",
       "      <td>8</td>\n",
       "      <td>PONTAL DE CAMBURI</td>\n",
       "      <td>0</td>\n",
       "      <td>0</td>\n",
       "      <td>0</td>\n",
       "      <td>0</td>\n",
       "      <td>0</td>\n",
       "      <td>0</td>\n",
       "      <td>No</td>\n",
       "    </tr>\n",
       "    <tr>\n",
       "      <th>4</th>\n",
       "      <td>F</td>\n",
       "      <td>2016-04-29T16:07:23Z</td>\n",
       "      <td>2016-04-29T00:00:00Z</td>\n",
       "      <td>56</td>\n",
       "      <td>JARDIM DA PENHA</td>\n",
       "      <td>0</td>\n",
       "      <td>1</td>\n",
       "      <td>1</td>\n",
       "      <td>0</td>\n",
       "      <td>0</td>\n",
       "      <td>0</td>\n",
       "      <td>No</td>\n",
       "    </tr>\n",
       "  </tbody>\n",
       "</table>\n",
       "</div>"
      ],
      "text/plain": [
       "  Gender          ScheduledDay        AppointmentDay  Age      Neighbourhood  \\\n",
       "0      F  2016-04-29T18:38:08Z  2016-04-29T00:00:00Z   62    JARDIM DA PENHA   \n",
       "1      M  2016-04-29T16:08:27Z  2016-04-29T00:00:00Z   56    JARDIM DA PENHA   \n",
       "2      F  2016-04-29T16:19:04Z  2016-04-29T00:00:00Z   62      MATA DA PRAIA   \n",
       "3      F  2016-04-29T17:29:31Z  2016-04-29T00:00:00Z    8  PONTAL DE CAMBURI   \n",
       "4      F  2016-04-29T16:07:23Z  2016-04-29T00:00:00Z   56    JARDIM DA PENHA   \n",
       "\n",
       "   Scholarship  Hipertension  Diabetes  Alcoholism  Handcap  SMS_received  \\\n",
       "0            0             1         0           0        0             0   \n",
       "1            0             0         0           0        0             0   \n",
       "2            0             0         0           0        0             0   \n",
       "3            0             0         0           0        0             0   \n",
       "4            0             1         1           0        0             0   \n",
       "\n",
       "  No-show  \n",
       "0      No  \n",
       "1      No  \n",
       "2      No  \n",
       "3      No  \n",
       "4      No  "
      ]
     },
     "execution_count": 63,
     "metadata": {},
     "output_type": "execute_result"
    }
   ],
   "source": [
    "df.head()"
   ]
  },
  {
   "cell_type": "markdown",
   "metadata": {},
   "source": [
    "*La variable `age`a au moins une valeur abérente ( **min(age)=1** ), ce qui peut biaiser nos statistiques descriptives. On va donc aussi la supprimer*"
   ]
  },
  {
   "cell_type": "code",
   "execution_count": 64,
   "metadata": {},
   "outputs": [],
   "source": [
    "abber=df[df['Age'] < 0].index"
   ]
  },
  {
   "cell_type": "code",
   "execution_count": 65,
   "metadata": {},
   "outputs": [],
   "source": [
    "df.drop(abber, inplace=True)"
   ]
  },
  {
   "cell_type": "markdown",
   "metadata": {},
   "source": [
    "##### Mettre tous les colonnes en minisculce pour faciliter leur appel"
   ]
  },
  {
   "cell_type": "code",
   "execution_count": 66,
   "metadata": {},
   "outputs": [],
   "source": [
    "df.columns = df.columns.str.lower()"
   ]
  },
  {
   "cell_type": "code",
   "execution_count": 67,
   "metadata": {},
   "outputs": [
    {
     "data": {
      "text/plain": [
       "(110526, 12)"
      ]
     },
     "execution_count": 67,
     "metadata": {},
     "output_type": "execute_result"
    }
   ],
   "source": [
    "df.shape"
   ]
  },
  {
   "cell_type": "markdown",
   "metadata": {},
   "source": [
    "##### Modifier les noms des colonnes"
   ]
  },
  {
   "cell_type": "markdown",
   "metadata": {},
   "source": [
    "Tout à l'heure la colonne *`handcap`* a été traduite en bonnet en français, mais en réalité les collecteurs voulait écrire *`handicap`* qui signifie handicape, sinon cela n'aurait aucun sens. Nous allons par la suite convertir tous les noms de colonnes en français pour faciliter notre appréension des données. Et enplus reformuler certains à l'aide du dictionnaire de données."
   ]
  },
  {
   "cell_type": "code",
   "execution_count": 68,
   "metadata": {},
   "outputs": [],
   "source": [
    "dict_rename = {'neighbourhood' : 'quartier','scholarship':'bourse','sms_received':'sms_reçu','alcoholism' :'alcoolique','no-show':'absent',\n",
    "              'hipertension':'hypertendu','handcap':'handicapé','gender':'genre','diabetes':'diabetique','scheduledday':'date_prévue','appointmentday':'date_rv'}\n",
    "\n",
    "df1 = df.rename(dict_rename, axis='columns')"
   ]
  },
  {
   "cell_type": "code",
   "execution_count": 69,
   "metadata": {},
   "outputs": [
    {
     "data": {
      "text/html": [
       "<div>\n",
       "<style scoped>\n",
       "    .dataframe tbody tr th:only-of-type {\n",
       "        vertical-align: middle;\n",
       "    }\n",
       "\n",
       "    .dataframe tbody tr th {\n",
       "        vertical-align: top;\n",
       "    }\n",
       "\n",
       "    .dataframe thead th {\n",
       "        text-align: right;\n",
       "    }\n",
       "</style>\n",
       "<table border=\"1\" class=\"dataframe\">\n",
       "  <thead>\n",
       "    <tr style=\"text-align: right;\">\n",
       "      <th></th>\n",
       "      <th>genre</th>\n",
       "      <th>date_prévue</th>\n",
       "      <th>date_rv</th>\n",
       "      <th>age</th>\n",
       "      <th>quartier</th>\n",
       "      <th>bourse</th>\n",
       "      <th>hypertendu</th>\n",
       "      <th>diabetique</th>\n",
       "      <th>alcoolique</th>\n",
       "      <th>handicapé</th>\n",
       "      <th>sms_reçu</th>\n",
       "      <th>absent</th>\n",
       "    </tr>\n",
       "  </thead>\n",
       "  <tbody>\n",
       "    <tr>\n",
       "      <th>0</th>\n",
       "      <td>F</td>\n",
       "      <td>2016-04-29T18:38:08Z</td>\n",
       "      <td>2016-04-29T00:00:00Z</td>\n",
       "      <td>62</td>\n",
       "      <td>JARDIM DA PENHA</td>\n",
       "      <td>0</td>\n",
       "      <td>1</td>\n",
       "      <td>0</td>\n",
       "      <td>0</td>\n",
       "      <td>0</td>\n",
       "      <td>0</td>\n",
       "      <td>No</td>\n",
       "    </tr>\n",
       "    <tr>\n",
       "      <th>1</th>\n",
       "      <td>M</td>\n",
       "      <td>2016-04-29T16:08:27Z</td>\n",
       "      <td>2016-04-29T00:00:00Z</td>\n",
       "      <td>56</td>\n",
       "      <td>JARDIM DA PENHA</td>\n",
       "      <td>0</td>\n",
       "      <td>0</td>\n",
       "      <td>0</td>\n",
       "      <td>0</td>\n",
       "      <td>0</td>\n",
       "      <td>0</td>\n",
       "      <td>No</td>\n",
       "    </tr>\n",
       "  </tbody>\n",
       "</table>\n",
       "</div>"
      ],
      "text/plain": [
       "  genre           date_prévue               date_rv  age         quartier  \\\n",
       "0     F  2016-04-29T18:38:08Z  2016-04-29T00:00:00Z   62  JARDIM DA PENHA   \n",
       "1     M  2016-04-29T16:08:27Z  2016-04-29T00:00:00Z   56  JARDIM DA PENHA   \n",
       "\n",
       "   bourse  hypertendu  diabetique  alcoolique  handicapé  sms_reçu absent  \n",
       "0       0           1           0           0          0         0     No  \n",
       "1       0           0           0           0          0         0     No  "
      ]
     },
     "execution_count": 69,
     "metadata": {},
     "output_type": "execute_result"
    }
   ],
   "source": [
    "df1.head(2)"
   ]
  },
  {
   "cell_type": "markdown",
   "metadata": {},
   "source": [
    "**feature engineering**"
   ]
  },
  {
   "cell_type": "markdown",
   "metadata": {},
   "source": [
    "*Puisque nous avons des colonnes de dates, cela est une excellente opportunité pour créer de nouvelles colonnes. Pour cela on va créer des **fonctions** qui vont se charger de cela !*"
   ]
  },
  {
   "cell_type": "code",
   "execution_count": 70,
   "metadata": {},
   "outputs": [],
   "source": [
    "# Convertir au format Y-m-d-H-M-S\n",
    "def parse_date(date):\n",
    "    if date == '':\n",
    "        return None\n",
    "    else:\n",
    "        return (dt.strptime(date, \"%Y-%m-%dT%H:%M:%S%fz\"))\n",
    "    \n",
    "def parse_maybe_int(i):\n",
    "    if i == '':\n",
    "        return None\n",
    "    else:\n",
    "        return int(i)\n",
    "    \n",
    "# Obtenir l'heure de la date\n",
    "def get_hour(date):\n",
    "    if date == '':\n",
    "        return None\n",
    "    else:\n",
    "        return parse_maybe_int(str(parse_date(date)).split(' ')[1].split(':')[0])\n",
    "    \n",
    "# Obtenir le jour de la date    \n",
    "def get_day(date):\n",
    "    if date == '':\n",
    "        return None\n",
    "    else:\n",
    "        return parse_date(date).strftime('%A')\n",
    "\n",
    "# Obtenir le mois de la date\n",
    "def get_month(date):\n",
    "    if date == '':\n",
    "        return None\n",
    "    else:\n",
    "        return parse_maybe_int(str(parse_date(date)).split('-')[1])\n",
    "\n",
    "# Obtenir l'année de la date\n",
    "def get_year(date):\n",
    "    if date == '':\n",
    "        return None\n",
    "    else:\n",
    "        return parse_maybe_int(str(parse_date(date)).split('-')[0])\n",
    "    \n",
    "df1['heure_prévue'] = df1['date_prévue'].apply(lambda x: get_hour(x))\n",
    "df1['jour_prévue'] = df1['date_prévue'].apply(lambda x: get_day(x))\n",
    "df1['mois_prévue'] = df1['date_prévue'].apply(lambda x: get_month(x))\n",
    "df1['an_prévu'] = df1['date_prévue'].apply(lambda x: get_year(x))\n",
    "df1['jour_rv'] = df1['date_rv'].apply(lambda x: get_day(x))\n",
    "df1['mois_rv'] = df1['date_rv'].apply(lambda x: get_month(x))\n",
    "df1['an_rv'] = df1['date_rv'].apply(lambda x: get_year(x))"
   ]
  },
  {
   "cell_type": "code",
   "execution_count": 71,
   "metadata": {},
   "outputs": [
    {
     "data": {
      "text/html": [
       "<div>\n",
       "<style scoped>\n",
       "    .dataframe tbody tr th:only-of-type {\n",
       "        vertical-align: middle;\n",
       "    }\n",
       "\n",
       "    .dataframe tbody tr th {\n",
       "        vertical-align: top;\n",
       "    }\n",
       "\n",
       "    .dataframe thead th {\n",
       "        text-align: right;\n",
       "    }\n",
       "</style>\n",
       "<table border=\"1\" class=\"dataframe\">\n",
       "  <thead>\n",
       "    <tr style=\"text-align: right;\">\n",
       "      <th></th>\n",
       "      <th>genre</th>\n",
       "      <th>date_prévue</th>\n",
       "      <th>date_rv</th>\n",
       "      <th>age</th>\n",
       "      <th>quartier</th>\n",
       "      <th>bourse</th>\n",
       "      <th>hypertendu</th>\n",
       "      <th>diabetique</th>\n",
       "      <th>alcoolique</th>\n",
       "      <th>handicapé</th>\n",
       "      <th>sms_reçu</th>\n",
       "      <th>absent</th>\n",
       "      <th>heure_prévue</th>\n",
       "      <th>jour_prévue</th>\n",
       "      <th>mois_prévue</th>\n",
       "      <th>an_prévu</th>\n",
       "      <th>jour_rv</th>\n",
       "      <th>mois_rv</th>\n",
       "      <th>an_rv</th>\n",
       "    </tr>\n",
       "  </thead>\n",
       "  <tbody>\n",
       "    <tr>\n",
       "      <th>0</th>\n",
       "      <td>F</td>\n",
       "      <td>2016-04-29T18:38:08Z</td>\n",
       "      <td>2016-04-29T00:00:00Z</td>\n",
       "      <td>62</td>\n",
       "      <td>JARDIM DA PENHA</td>\n",
       "      <td>0</td>\n",
       "      <td>1</td>\n",
       "      <td>0</td>\n",
       "      <td>0</td>\n",
       "      <td>0</td>\n",
       "      <td>0</td>\n",
       "      <td>No</td>\n",
       "      <td>18</td>\n",
       "      <td>Friday</td>\n",
       "      <td>4</td>\n",
       "      <td>2016</td>\n",
       "      <td>Friday</td>\n",
       "      <td>4</td>\n",
       "      <td>2016</td>\n",
       "    </tr>\n",
       "    <tr>\n",
       "      <th>1</th>\n",
       "      <td>M</td>\n",
       "      <td>2016-04-29T16:08:27Z</td>\n",
       "      <td>2016-04-29T00:00:00Z</td>\n",
       "      <td>56</td>\n",
       "      <td>JARDIM DA PENHA</td>\n",
       "      <td>0</td>\n",
       "      <td>0</td>\n",
       "      <td>0</td>\n",
       "      <td>0</td>\n",
       "      <td>0</td>\n",
       "      <td>0</td>\n",
       "      <td>No</td>\n",
       "      <td>16</td>\n",
       "      <td>Friday</td>\n",
       "      <td>4</td>\n",
       "      <td>2016</td>\n",
       "      <td>Friday</td>\n",
       "      <td>4</td>\n",
       "      <td>2016</td>\n",
       "    </tr>\n",
       "    <tr>\n",
       "      <th>2</th>\n",
       "      <td>F</td>\n",
       "      <td>2016-04-29T16:19:04Z</td>\n",
       "      <td>2016-04-29T00:00:00Z</td>\n",
       "      <td>62</td>\n",
       "      <td>MATA DA PRAIA</td>\n",
       "      <td>0</td>\n",
       "      <td>0</td>\n",
       "      <td>0</td>\n",
       "      <td>0</td>\n",
       "      <td>0</td>\n",
       "      <td>0</td>\n",
       "      <td>No</td>\n",
       "      <td>16</td>\n",
       "      <td>Friday</td>\n",
       "      <td>4</td>\n",
       "      <td>2016</td>\n",
       "      <td>Friday</td>\n",
       "      <td>4</td>\n",
       "      <td>2016</td>\n",
       "    </tr>\n",
       "    <tr>\n",
       "      <th>3</th>\n",
       "      <td>F</td>\n",
       "      <td>2016-04-29T17:29:31Z</td>\n",
       "      <td>2016-04-29T00:00:00Z</td>\n",
       "      <td>8</td>\n",
       "      <td>PONTAL DE CAMBURI</td>\n",
       "      <td>0</td>\n",
       "      <td>0</td>\n",
       "      <td>0</td>\n",
       "      <td>0</td>\n",
       "      <td>0</td>\n",
       "      <td>0</td>\n",
       "      <td>No</td>\n",
       "      <td>17</td>\n",
       "      <td>Friday</td>\n",
       "      <td>4</td>\n",
       "      <td>2016</td>\n",
       "      <td>Friday</td>\n",
       "      <td>4</td>\n",
       "      <td>2016</td>\n",
       "    </tr>\n",
       "    <tr>\n",
       "      <th>4</th>\n",
       "      <td>F</td>\n",
       "      <td>2016-04-29T16:07:23Z</td>\n",
       "      <td>2016-04-29T00:00:00Z</td>\n",
       "      <td>56</td>\n",
       "      <td>JARDIM DA PENHA</td>\n",
       "      <td>0</td>\n",
       "      <td>1</td>\n",
       "      <td>1</td>\n",
       "      <td>0</td>\n",
       "      <td>0</td>\n",
       "      <td>0</td>\n",
       "      <td>No</td>\n",
       "      <td>16</td>\n",
       "      <td>Friday</td>\n",
       "      <td>4</td>\n",
       "      <td>2016</td>\n",
       "      <td>Friday</td>\n",
       "      <td>4</td>\n",
       "      <td>2016</td>\n",
       "    </tr>\n",
       "    <tr>\n",
       "      <th>...</th>\n",
       "      <td>...</td>\n",
       "      <td>...</td>\n",
       "      <td>...</td>\n",
       "      <td>...</td>\n",
       "      <td>...</td>\n",
       "      <td>...</td>\n",
       "      <td>...</td>\n",
       "      <td>...</td>\n",
       "      <td>...</td>\n",
       "      <td>...</td>\n",
       "      <td>...</td>\n",
       "      <td>...</td>\n",
       "      <td>...</td>\n",
       "      <td>...</td>\n",
       "      <td>...</td>\n",
       "      <td>...</td>\n",
       "      <td>...</td>\n",
       "      <td>...</td>\n",
       "      <td>...</td>\n",
       "    </tr>\n",
       "    <tr>\n",
       "      <th>110522</th>\n",
       "      <td>F</td>\n",
       "      <td>2016-05-03T09:15:35Z</td>\n",
       "      <td>2016-06-07T00:00:00Z</td>\n",
       "      <td>56</td>\n",
       "      <td>MARIA ORTIZ</td>\n",
       "      <td>0</td>\n",
       "      <td>0</td>\n",
       "      <td>0</td>\n",
       "      <td>0</td>\n",
       "      <td>0</td>\n",
       "      <td>1</td>\n",
       "      <td>No</td>\n",
       "      <td>9</td>\n",
       "      <td>Tuesday</td>\n",
       "      <td>5</td>\n",
       "      <td>2016</td>\n",
       "      <td>Tuesday</td>\n",
       "      <td>6</td>\n",
       "      <td>2016</td>\n",
       "    </tr>\n",
       "    <tr>\n",
       "      <th>110523</th>\n",
       "      <td>F</td>\n",
       "      <td>2016-05-03T07:27:33Z</td>\n",
       "      <td>2016-06-07T00:00:00Z</td>\n",
       "      <td>51</td>\n",
       "      <td>MARIA ORTIZ</td>\n",
       "      <td>0</td>\n",
       "      <td>0</td>\n",
       "      <td>0</td>\n",
       "      <td>0</td>\n",
       "      <td>0</td>\n",
       "      <td>1</td>\n",
       "      <td>No</td>\n",
       "      <td>7</td>\n",
       "      <td>Tuesday</td>\n",
       "      <td>5</td>\n",
       "      <td>2016</td>\n",
       "      <td>Tuesday</td>\n",
       "      <td>6</td>\n",
       "      <td>2016</td>\n",
       "    </tr>\n",
       "    <tr>\n",
       "      <th>110524</th>\n",
       "      <td>F</td>\n",
       "      <td>2016-04-27T16:03:52Z</td>\n",
       "      <td>2016-06-07T00:00:00Z</td>\n",
       "      <td>21</td>\n",
       "      <td>MARIA ORTIZ</td>\n",
       "      <td>0</td>\n",
       "      <td>0</td>\n",
       "      <td>0</td>\n",
       "      <td>0</td>\n",
       "      <td>0</td>\n",
       "      <td>1</td>\n",
       "      <td>No</td>\n",
       "      <td>16</td>\n",
       "      <td>Wednesday</td>\n",
       "      <td>4</td>\n",
       "      <td>2016</td>\n",
       "      <td>Tuesday</td>\n",
       "      <td>6</td>\n",
       "      <td>2016</td>\n",
       "    </tr>\n",
       "    <tr>\n",
       "      <th>110525</th>\n",
       "      <td>F</td>\n",
       "      <td>2016-04-27T15:09:23Z</td>\n",
       "      <td>2016-06-07T00:00:00Z</td>\n",
       "      <td>38</td>\n",
       "      <td>MARIA ORTIZ</td>\n",
       "      <td>0</td>\n",
       "      <td>0</td>\n",
       "      <td>0</td>\n",
       "      <td>0</td>\n",
       "      <td>0</td>\n",
       "      <td>1</td>\n",
       "      <td>No</td>\n",
       "      <td>15</td>\n",
       "      <td>Wednesday</td>\n",
       "      <td>4</td>\n",
       "      <td>2016</td>\n",
       "      <td>Tuesday</td>\n",
       "      <td>6</td>\n",
       "      <td>2016</td>\n",
       "    </tr>\n",
       "    <tr>\n",
       "      <th>110526</th>\n",
       "      <td>F</td>\n",
       "      <td>2016-04-27T13:30:56Z</td>\n",
       "      <td>2016-06-07T00:00:00Z</td>\n",
       "      <td>54</td>\n",
       "      <td>MARIA ORTIZ</td>\n",
       "      <td>0</td>\n",
       "      <td>0</td>\n",
       "      <td>0</td>\n",
       "      <td>0</td>\n",
       "      <td>0</td>\n",
       "      <td>1</td>\n",
       "      <td>No</td>\n",
       "      <td>13</td>\n",
       "      <td>Wednesday</td>\n",
       "      <td>4</td>\n",
       "      <td>2016</td>\n",
       "      <td>Tuesday</td>\n",
       "      <td>6</td>\n",
       "      <td>2016</td>\n",
       "    </tr>\n",
       "  </tbody>\n",
       "</table>\n",
       "<p>110526 rows × 19 columns</p>\n",
       "</div>"
      ],
      "text/plain": [
       "       genre           date_prévue               date_rv  age  \\\n",
       "0          F  2016-04-29T18:38:08Z  2016-04-29T00:00:00Z   62   \n",
       "1          M  2016-04-29T16:08:27Z  2016-04-29T00:00:00Z   56   \n",
       "2          F  2016-04-29T16:19:04Z  2016-04-29T00:00:00Z   62   \n",
       "3          F  2016-04-29T17:29:31Z  2016-04-29T00:00:00Z    8   \n",
       "4          F  2016-04-29T16:07:23Z  2016-04-29T00:00:00Z   56   \n",
       "...      ...                   ...                   ...  ...   \n",
       "110522     F  2016-05-03T09:15:35Z  2016-06-07T00:00:00Z   56   \n",
       "110523     F  2016-05-03T07:27:33Z  2016-06-07T00:00:00Z   51   \n",
       "110524     F  2016-04-27T16:03:52Z  2016-06-07T00:00:00Z   21   \n",
       "110525     F  2016-04-27T15:09:23Z  2016-06-07T00:00:00Z   38   \n",
       "110526     F  2016-04-27T13:30:56Z  2016-06-07T00:00:00Z   54   \n",
       "\n",
       "                 quartier  bourse  hypertendu  diabetique  alcoolique  \\\n",
       "0         JARDIM DA PENHA       0           1           0           0   \n",
       "1         JARDIM DA PENHA       0           0           0           0   \n",
       "2           MATA DA PRAIA       0           0           0           0   \n",
       "3       PONTAL DE CAMBURI       0           0           0           0   \n",
       "4         JARDIM DA PENHA       0           1           1           0   \n",
       "...                   ...     ...         ...         ...         ...   \n",
       "110522        MARIA ORTIZ       0           0           0           0   \n",
       "110523        MARIA ORTIZ       0           0           0           0   \n",
       "110524        MARIA ORTIZ       0           0           0           0   \n",
       "110525        MARIA ORTIZ       0           0           0           0   \n",
       "110526        MARIA ORTIZ       0           0           0           0   \n",
       "\n",
       "        handicapé  sms_reçu absent  heure_prévue jour_prévue  mois_prévue  \\\n",
       "0               0         0     No            18      Friday            4   \n",
       "1               0         0     No            16      Friday            4   \n",
       "2               0         0     No            16      Friday            4   \n",
       "3               0         0     No            17      Friday            4   \n",
       "4               0         0     No            16      Friday            4   \n",
       "...           ...       ...    ...           ...         ...          ...   \n",
       "110522          0         1     No             9     Tuesday            5   \n",
       "110523          0         1     No             7     Tuesday            5   \n",
       "110524          0         1     No            16   Wednesday            4   \n",
       "110525          0         1     No            15   Wednesday            4   \n",
       "110526          0         1     No            13   Wednesday            4   \n",
       "\n",
       "        an_prévu  jour_rv  mois_rv  an_rv  \n",
       "0           2016   Friday        4   2016  \n",
       "1           2016   Friday        4   2016  \n",
       "2           2016   Friday        4   2016  \n",
       "3           2016   Friday        4   2016  \n",
       "4           2016   Friday        4   2016  \n",
       "...          ...      ...      ...    ...  \n",
       "110522      2016  Tuesday        6   2016  \n",
       "110523      2016  Tuesday        6   2016  \n",
       "110524      2016  Tuesday        6   2016  \n",
       "110525      2016  Tuesday        6   2016  \n",
       "110526      2016  Tuesday        6   2016  \n",
       "\n",
       "[110526 rows x 19 columns]"
      ]
     },
     "execution_count": 71,
     "metadata": {},
     "output_type": "execute_result"
    }
   ],
   "source": [
    "df1"
   ]
  },
  {
   "cell_type": "markdown",
   "metadata": {},
   "source": [
    "*Comme vous le voyez maintenant, nous avons **19 colonnes**, donc plus de possibilités d'exploration !*"
   ]
  },
  {
   "cell_type": "markdown",
   "metadata": {},
   "source": [
    "*Nous supprimons donc nos deux colonnes `date_prévu` et `date_rv`, qui ne servent plus à rien pour la suite !*"
   ]
  },
  {
   "cell_type": "code",
   "execution_count": 72,
   "metadata": {},
   "outputs": [],
   "source": [
    "df1.drop(['date_prévue', 'date_rv'], axis=1, inplace=True)"
   ]
  },
  {
   "cell_type": "code",
   "execution_count": 73,
   "metadata": {},
   "outputs": [
    {
     "data": {
      "text/html": [
       "<div>\n",
       "<style scoped>\n",
       "    .dataframe tbody tr th:only-of-type {\n",
       "        vertical-align: middle;\n",
       "    }\n",
       "\n",
       "    .dataframe tbody tr th {\n",
       "        vertical-align: top;\n",
       "    }\n",
       "\n",
       "    .dataframe thead th {\n",
       "        text-align: right;\n",
       "    }\n",
       "</style>\n",
       "<table border=\"1\" class=\"dataframe\">\n",
       "  <thead>\n",
       "    <tr style=\"text-align: right;\">\n",
       "      <th></th>\n",
       "      <th>genre</th>\n",
       "      <th>age</th>\n",
       "      <th>quartier</th>\n",
       "      <th>bourse</th>\n",
       "      <th>hypertendu</th>\n",
       "      <th>diabetique</th>\n",
       "      <th>alcoolique</th>\n",
       "      <th>handicapé</th>\n",
       "      <th>sms_reçu</th>\n",
       "      <th>absent</th>\n",
       "      <th>heure_prévue</th>\n",
       "      <th>jour_prévue</th>\n",
       "      <th>mois_prévue</th>\n",
       "      <th>an_prévu</th>\n",
       "      <th>jour_rv</th>\n",
       "      <th>mois_rv</th>\n",
       "      <th>an_rv</th>\n",
       "    </tr>\n",
       "  </thead>\n",
       "  <tbody>\n",
       "    <tr>\n",
       "      <th>0</th>\n",
       "      <td>F</td>\n",
       "      <td>62</td>\n",
       "      <td>JARDIM DA PENHA</td>\n",
       "      <td>0</td>\n",
       "      <td>1</td>\n",
       "      <td>0</td>\n",
       "      <td>0</td>\n",
       "      <td>0</td>\n",
       "      <td>0</td>\n",
       "      <td>No</td>\n",
       "      <td>18</td>\n",
       "      <td>Friday</td>\n",
       "      <td>4</td>\n",
       "      <td>2016</td>\n",
       "      <td>Friday</td>\n",
       "      <td>4</td>\n",
       "      <td>2016</td>\n",
       "    </tr>\n",
       "    <tr>\n",
       "      <th>1</th>\n",
       "      <td>M</td>\n",
       "      <td>56</td>\n",
       "      <td>JARDIM DA PENHA</td>\n",
       "      <td>0</td>\n",
       "      <td>0</td>\n",
       "      <td>0</td>\n",
       "      <td>0</td>\n",
       "      <td>0</td>\n",
       "      <td>0</td>\n",
       "      <td>No</td>\n",
       "      <td>16</td>\n",
       "      <td>Friday</td>\n",
       "      <td>4</td>\n",
       "      <td>2016</td>\n",
       "      <td>Friday</td>\n",
       "      <td>4</td>\n",
       "      <td>2016</td>\n",
       "    </tr>\n",
       "  </tbody>\n",
       "</table>\n",
       "</div>"
      ],
      "text/plain": [
       "  genre  age         quartier  bourse  hypertendu  diabetique  alcoolique  \\\n",
       "0     F   62  JARDIM DA PENHA       0           1           0           0   \n",
       "1     M   56  JARDIM DA PENHA       0           0           0           0   \n",
       "\n",
       "   handicapé  sms_reçu absent  heure_prévue jour_prévue  mois_prévue  \\\n",
       "0          0         0     No            18      Friday            4   \n",
       "1          0         0     No            16      Friday            4   \n",
       "\n",
       "   an_prévu jour_rv  mois_rv  an_rv  \n",
       "0      2016  Friday        4   2016  \n",
       "1      2016  Friday        4   2016  "
      ]
     },
     "execution_count": 73,
     "metadata": {},
     "output_type": "execute_result"
    }
   ],
   "source": [
    "df1.head(2)"
   ]
  },
  {
   "cell_type": "markdown",
   "metadata": {},
   "source": [
    "*En ce qui concerne la variable cible `absent`, en projet de data science ou d'analyse de données, il est plus facile d'apréhender le nomenclature avec la valeur True(yes) qu'avec la valeur False(no). Donc nous allons transformer cette colonne en présence plutôt qu'en absence.*"
   ]
  },
  {
   "cell_type": "code",
   "execution_count": 74,
   "metadata": {},
   "outputs": [],
   "source": [
    "df1['présent'] = df1['absent'].apply(lambda x: 1 if x=='No' else 0 )"
   ]
  },
  {
   "cell_type": "code",
   "execution_count": 75,
   "metadata": {},
   "outputs": [
    {
     "data": {
      "text/html": [
       "<div>\n",
       "<style scoped>\n",
       "    .dataframe tbody tr th:only-of-type {\n",
       "        vertical-align: middle;\n",
       "    }\n",
       "\n",
       "    .dataframe tbody tr th {\n",
       "        vertical-align: top;\n",
       "    }\n",
       "\n",
       "    .dataframe thead th {\n",
       "        text-align: right;\n",
       "    }\n",
       "</style>\n",
       "<table border=\"1\" class=\"dataframe\">\n",
       "  <thead>\n",
       "    <tr style=\"text-align: right;\">\n",
       "      <th></th>\n",
       "      <th>genre</th>\n",
       "      <th>age</th>\n",
       "      <th>quartier</th>\n",
       "      <th>bourse</th>\n",
       "      <th>hypertendu</th>\n",
       "      <th>diabetique</th>\n",
       "      <th>alcoolique</th>\n",
       "      <th>handicapé</th>\n",
       "      <th>sms_reçu</th>\n",
       "      <th>absent</th>\n",
       "      <th>heure_prévue</th>\n",
       "      <th>jour_prévue</th>\n",
       "      <th>mois_prévue</th>\n",
       "      <th>an_prévu</th>\n",
       "      <th>jour_rv</th>\n",
       "      <th>mois_rv</th>\n",
       "      <th>an_rv</th>\n",
       "      <th>présent</th>\n",
       "    </tr>\n",
       "  </thead>\n",
       "  <tbody>\n",
       "    <tr>\n",
       "      <th>0</th>\n",
       "      <td>F</td>\n",
       "      <td>62</td>\n",
       "      <td>JARDIM DA PENHA</td>\n",
       "      <td>0</td>\n",
       "      <td>1</td>\n",
       "      <td>0</td>\n",
       "      <td>0</td>\n",
       "      <td>0</td>\n",
       "      <td>0</td>\n",
       "      <td>No</td>\n",
       "      <td>18</td>\n",
       "      <td>Friday</td>\n",
       "      <td>4</td>\n",
       "      <td>2016</td>\n",
       "      <td>Friday</td>\n",
       "      <td>4</td>\n",
       "      <td>2016</td>\n",
       "      <td>1</td>\n",
       "    </tr>\n",
       "  </tbody>\n",
       "</table>\n",
       "</div>"
      ],
      "text/plain": [
       "  genre  age         quartier  bourse  hypertendu  diabetique  alcoolique  \\\n",
       "0     F   62  JARDIM DA PENHA       0           1           0           0   \n",
       "\n",
       "   handicapé  sms_reçu absent  heure_prévue jour_prévue  mois_prévue  \\\n",
       "0          0         0     No            18      Friday            4   \n",
       "\n",
       "   an_prévu jour_rv  mois_rv  an_rv  présent  \n",
       "0      2016  Friday        4   2016        1  "
      ]
     },
     "execution_count": 75,
     "metadata": {},
     "output_type": "execute_result"
    }
   ],
   "source": [
    "df1.head(1)"
   ]
  },
  {
   "cell_type": "code",
   "execution_count": 76,
   "metadata": {},
   "outputs": [
    {
     "data": {
      "image/png": "[encoded data removed]",
      "text/plain": [
       "<Figure size 720x576 with 16 Axes>"
      ]
     },
     "metadata": {
      "needs_background": "light"
     },
     "output_type": "display_data"
    }
   ],
   "source": [
    "df1.hist(figsize=(10, 8));"
   ]
  },
  {
   "cell_type": "code",
   "execution_count": 77,
   "metadata": {},
   "outputs": [
    {
     "data": {
      "text/html": [
       "<div>\n",
       "<style scoped>\n",
       "    .dataframe tbody tr th:only-of-type {\n",
       "        vertical-align: middle;\n",
       "    }\n",
       "\n",
       "    .dataframe tbody tr th {\n",
       "        vertical-align: top;\n",
       "    }\n",
       "\n",
       "    .dataframe thead th {\n",
       "        text-align: right;\n",
       "    }\n",
       "</style>\n",
       "<table border=\"1\" class=\"dataframe\">\n",
       "  <thead>\n",
       "    <tr style=\"text-align: right;\">\n",
       "      <th></th>\n",
       "      <th>age</th>\n",
       "      <th>bourse</th>\n",
       "      <th>hypertendu</th>\n",
       "      <th>diabetique</th>\n",
       "      <th>alcoolique</th>\n",
       "      <th>handicapé</th>\n",
       "      <th>sms_reçu</th>\n",
       "      <th>heure_prévue</th>\n",
       "      <th>mois_prévue</th>\n",
       "      <th>an_prévu</th>\n",
       "      <th>mois_rv</th>\n",
       "      <th>an_rv</th>\n",
       "      <th>présent</th>\n",
       "    </tr>\n",
       "  </thead>\n",
       "  <tbody>\n",
       "    <tr>\n",
       "      <th>count</th>\n",
       "      <td>110526.000000</td>\n",
       "      <td>110526.000000</td>\n",
       "      <td>110526.000000</td>\n",
       "      <td>110526.000000</td>\n",
       "      <td>110526.000000</td>\n",
       "      <td>110526.000000</td>\n",
       "      <td>110526.000000</td>\n",
       "      <td>110526.000000</td>\n",
       "      <td>110526.000000</td>\n",
       "      <td>110526.000000</td>\n",
       "      <td>110526.000000</td>\n",
       "      <td>110526.0</td>\n",
       "      <td>110526.000000</td>\n",
       "    </tr>\n",
       "    <tr>\n",
       "      <th>mean</th>\n",
       "      <td>37.089219</td>\n",
       "      <td>0.098266</td>\n",
       "      <td>0.197248</td>\n",
       "      <td>0.071865</td>\n",
       "      <td>0.030400</td>\n",
       "      <td>0.022248</td>\n",
       "      <td>0.321029</td>\n",
       "      <td>10.774542</td>\n",
       "      <td>4.823860</td>\n",
       "      <td>2015.999439</td>\n",
       "      <td>5.210041</td>\n",
       "      <td>2016.0</td>\n",
       "      <td>0.798066</td>\n",
       "    </tr>\n",
       "    <tr>\n",
       "      <th>std</th>\n",
       "      <td>23.110026</td>\n",
       "      <td>0.297676</td>\n",
       "      <td>0.397923</td>\n",
       "      <td>0.258266</td>\n",
       "      <td>0.171686</td>\n",
       "      <td>0.161543</td>\n",
       "      <td>0.466874</td>\n",
       "      <td>3.216192</td>\n",
       "      <td>0.715795</td>\n",
       "      <td>0.023678</td>\n",
       "      <td>0.473776</td>\n",
       "      <td>0.0</td>\n",
       "      <td>0.401445</td>\n",
       "    </tr>\n",
       "    <tr>\n",
       "      <th>min</th>\n",
       "      <td>0.000000</td>\n",
       "      <td>0.000000</td>\n",
       "      <td>0.000000</td>\n",
       "      <td>0.000000</td>\n",
       "      <td>0.000000</td>\n",
       "      <td>0.000000</td>\n",
       "      <td>0.000000</td>\n",
       "      <td>6.000000</td>\n",
       "      <td>1.000000</td>\n",
       "      <td>2015.000000</td>\n",
       "      <td>4.000000</td>\n",
       "      <td>2016.0</td>\n",
       "      <td>0.000000</td>\n",
       "    </tr>\n",
       "    <tr>\n",
       "      <th>25%</th>\n",
       "      <td>18.000000</td>\n",
       "      <td>0.000000</td>\n",
       "      <td>0.000000</td>\n",
       "      <td>0.000000</td>\n",
       "      <td>0.000000</td>\n",
       "      <td>0.000000</td>\n",
       "      <td>0.000000</td>\n",
       "      <td>8.000000</td>\n",
       "      <td>4.000000</td>\n",
       "      <td>2016.000000</td>\n",
       "      <td>5.000000</td>\n",
       "      <td>2016.0</td>\n",
       "      <td>1.000000</td>\n",
       "    </tr>\n",
       "    <tr>\n",
       "      <th>50%</th>\n",
       "      <td>37.000000</td>\n",
       "      <td>0.000000</td>\n",
       "      <td>0.000000</td>\n",
       "      <td>0.000000</td>\n",
       "      <td>0.000000</td>\n",
       "      <td>0.000000</td>\n",
       "      <td>0.000000</td>\n",
       "      <td>10.000000</td>\n",
       "      <td>5.000000</td>\n",
       "      <td>2016.000000</td>\n",
       "      <td>5.000000</td>\n",
       "      <td>2016.0</td>\n",
       "      <td>1.000000</td>\n",
       "    </tr>\n",
       "    <tr>\n",
       "      <th>75%</th>\n",
       "      <td>55.000000</td>\n",
       "      <td>0.000000</td>\n",
       "      <td>0.000000</td>\n",
       "      <td>0.000000</td>\n",
       "      <td>0.000000</td>\n",
       "      <td>0.000000</td>\n",
       "      <td>1.000000</td>\n",
       "      <td>13.000000</td>\n",
       "      <td>5.000000</td>\n",
       "      <td>2016.000000</td>\n",
       "      <td>5.000000</td>\n",
       "      <td>2016.0</td>\n",
       "      <td>1.000000</td>\n",
       "    </tr>\n",
       "    <tr>\n",
       "      <th>max</th>\n",
       "      <td>115.000000</td>\n",
       "      <td>1.000000</td>\n",
       "      <td>1.000000</td>\n",
       "      <td>1.000000</td>\n",
       "      <td>1.000000</td>\n",
       "      <td>4.000000</td>\n",
       "      <td>1.000000</td>\n",
       "      <td>21.000000</td>\n",
       "      <td>12.000000</td>\n",
       "      <td>2016.000000</td>\n",
       "      <td>6.000000</td>\n",
       "      <td>2016.0</td>\n",
       "      <td>1.000000</td>\n",
       "    </tr>\n",
       "  </tbody>\n",
       "</table>\n",
       "</div>"
      ],
      "text/plain": [
       "                 age         bourse     hypertendu     diabetique  \\\n",
       "count  110526.000000  110526.000000  110526.000000  110526.000000   \n",
       "mean       37.089219       0.098266       0.197248       0.071865   \n",
       "std        23.110026       0.297676       0.397923       0.258266   \n",
       "min         0.000000       0.000000       0.000000       0.000000   \n",
       "25%        18.000000       0.000000       0.000000       0.000000   \n",
       "50%        37.000000       0.000000       0.000000       0.000000   \n",
       "75%        55.000000       0.000000       0.000000       0.000000   \n",
       "max       115.000000       1.000000       1.000000       1.000000   \n",
       "\n",
       "          alcoolique      handicapé       sms_reçu   heure_prévue  \\\n",
       "count  110526.000000  110526.000000  110526.000000  110526.000000   \n",
       "mean        0.030400       0.022248       0.321029      10.774542   \n",
       "std         0.171686       0.161543       0.466874       3.216192   \n",
       "min         0.000000       0.000000       0.000000       6.000000   \n",
       "25%         0.000000       0.000000       0.000000       8.000000   \n",
       "50%         0.000000       0.000000       0.000000      10.000000   \n",
       "75%         0.000000       0.000000       1.000000      13.000000   \n",
       "max         1.000000       4.000000       1.000000      21.000000   \n",
       "\n",
       "         mois_prévue       an_prévu        mois_rv     an_rv        présent  \n",
       "count  110526.000000  110526.000000  110526.000000  110526.0  110526.000000  \n",
       "mean        4.823860    2015.999439       5.210041    2016.0       0.798066  \n",
       "std         0.715795       0.023678       0.473776       0.0       0.401445  \n",
       "min         1.000000    2015.000000       4.000000    2016.0       0.000000  \n",
       "25%         4.000000    2016.000000       5.000000    2016.0       1.000000  \n",
       "50%         5.000000    2016.000000       5.000000    2016.0       1.000000  \n",
       "75%         5.000000    2016.000000       5.000000    2016.0       1.000000  \n",
       "max        12.000000    2016.000000       6.000000    2016.0       1.000000  "
      ]
     },
     "execution_count": 77,
     "metadata": {},
     "output_type": "execute_result"
    }
   ],
   "source": [
    "df1.describe()"
   ]
  },
  {
   "cell_type": "markdown",
   "metadata": {},
   "source": [
    "<a id='eda'></a>\n",
    "## Exploratory Data Analysis\n"
   ]
  },
  {
   "cell_type": "markdown",
   "metadata": {},
   "source": [
    "#### Question de recherche (QR) 1 : Quel est la proportion de personnes présentes/absentes aux rendez-vous ? "
   ]
  },
  {
   "cell_type": "code",
   "execution_count": 78,
   "metadata": {},
   "outputs": [
    {
     "name": "stdout",
     "output_type": "stream",
     "text": [
      "Pourcentage de présence : 79.81 %\n",
      "Pourcentage d'absence : 20.19 %\n"
     ]
    }
   ],
   "source": [
    "presents = df1['présent'] == True\n",
    "absents = df1['présent'] == False\n",
    "print(\"Pourcentage de présence : {:.2f} %\".format(presents.mean()*100))\n",
    "print(\"Pourcentage d'absence : {:.2f} %\".format(absents.mean()*100))"
   ]
  },
  {
   "cell_type": "code",
   "execution_count": 79,
   "metadata": {},
   "outputs": [
    {
     "data": {
      "image/png": "[encoded data removed]",
      "text/plain": [
       "<Figure size 432x288 with 1 Axes>"
      ]
     },
     "metadata": {},
     "output_type": "display_data"
    }
   ],
   "source": [
    "labels = 'Présents', 'Absents'\n",
    "sizes = [presents.mean()*100, absents.mean()*100]\n",
    "explode = (0, 0.1)  # Portion à isoler\n",
    "\n",
    "fig1, ax1 = plt.subplots()\n",
    "ax1.pie(sizes, explode=explode, labels=labels, autopct='%1.1f%%',\n",
    "        shadow=True, startangle=90)\n",
    "ax1.axis('equal') \n",
    "\n",
    "plt.show()"
   ]
  },
  {
   "cell_type": "markdown",
   "metadata": {},
   "source": [
    "*On pourra dire que prés de **80%** des patients viennent aux RV et naturellement près de **20%** désistent.*"
   ]
  },
  {
   "cell_type": "markdown",
   "metadata": {},
   "source": [
    "##### QR 2 : Qui vont le plus souvent chez le médecin, les hommes ou les femmes ?"
   ]
  },
  {
   "cell_type": "markdown",
   "metadata": {},
   "source": [
    "*Ici on va filtrer l'ensemble de données par sexe (M ou F) et compter les valeurs de présences et d'absences.*"
   ]
  },
  {
   "cell_type": "code",
   "execution_count": 80,
   "metadata": {},
   "outputs": [
    {
     "data": {
      "text/plain": [
       "genre  présent\n",
       "F      1          57245\n",
       "       0          14594\n",
       "M      1          30962\n",
       "       0           7725\n",
       "Name: présent, dtype: int64"
      ]
     },
     "execution_count": 80,
     "metadata": {},
     "output_type": "execute_result"
    }
   ],
   "source": [
    "df1.groupby('genre').présent.value_counts()"
   ]
  },
  {
   "cell_type": "markdown",
   "metadata": {},
   "source": [
    "*On va regrouper en par sexe et par présence pour calculer le pourcentage de présence par pour chaque sexe.*"
   ]
  },
  {
   "cell_type": "code",
   "execution_count": 81,
   "metadata": {},
   "outputs": [
    {
     "data": {
      "text/plain": [
       "genre\n",
       "F    0.796851\n",
       "M    0.800321\n",
       "Name: présent, dtype: float64"
      ]
     },
     "execution_count": 81,
     "metadata": {},
     "output_type": "execute_result"
    }
   ],
   "source": [
    "df1.groupby('genre')['présent'].mean()"
   ]
  },
  {
   "cell_type": "code",
   "execution_count": 82,
   "metadata": {},
   "outputs": [
    {
     "data": {
      "image/png": "[encoded data removed]",
      "text/plain": [
       "<Figure size 432x288 with 1 Axes>"
      ]
     },
     "metadata": {
      "needs_background": "light"
     },
     "output_type": "display_data"
    }
   ],
   "source": [
    "# Graphique à barres des taux avec une barre pour les femmes (F) et une barre pour les hommes (M).\n",
    "\n",
    "df1.groupby('genre')['présent'].mean().plot(kind='bar', alpha=.7, color=['blue', 'orange']);\n",
    "\n",
    "# title and labels\n",
    "plt.xticks([0, 1], ['Femme', 'Homme'])\n",
    "plt.ylabel('Taux de Présence', fontsize=18)\n",
    "plt.xlabel('Genre', fontsize=18)\n",
    "plt.title('Présence selon le sexe du patient');"
   ]
  },
  {
   "cell_type": "markdown",
   "metadata": {},
   "source": [
    "*On peut dire que les hommes et les femmes ont tous à peu prés les même habitudes avec près de **80 %** de présence combiné.*"
   ]
  },
  {
   "cell_type": "code",
   "execution_count": 83,
   "metadata": {},
   "outputs": [
    {
     "data": {
      "image/png": "[encoded data removed]",
      "text/plain": [
       "<Figure size 432x288 with 1 Axes>"
      ]
     },
     "metadata": {
      "needs_background": "light"
     },
     "output_type": "display_data"
    }
   ],
   "source": [
    "df1.genre[presents].hist(alpha=0.5, label = 'Venu au RV')\n",
    "df1.genre[absents].hist(alpha=0.5, label = 'Manqué au RV');\n",
    "plt.legend();"
   ]
  },
  {
   "cell_type": "markdown",
   "metadata": {},
   "source": [
    "##### QR 3:  Quelle est la maladie qui survient le plus chez les patients lors des  rendez-vous ?"
   ]
  },
  {
   "cell_type": "code",
   "execution_count": 84,
   "metadata": {},
   "outputs": [
    {
     "name": "stdout",
     "output_type": "stream",
     "text": [
      "La proportion d'hypertendus est de : 19.72 %\n"
     ]
    }
   ],
   "source": [
    "hyper_prop = df1.hypertendu.mean()*100\n",
    "print(\"La proportion d'hypertendus est de : {:.2f} %\".format(hyper_prop))"
   ]
  },
  {
   "cell_type": "code",
   "execution_count": 85,
   "metadata": {},
   "outputs": [
    {
     "name": "stdout",
     "output_type": "stream",
     "text": [
      "La proportion de diabétiques est de : 7.19 %\n"
     ]
    }
   ],
   "source": [
    "diabetes_prop = df1.diabetique.mean()*100\n",
    "print(\"La proportion de diabétiques est de : {:.2f} %\".format(diabetes_prop))"
   ]
  },
  {
   "cell_type": "code",
   "execution_count": 86,
   "metadata": {},
   "outputs": [
    {
     "name": "stdout",
     "output_type": "stream",
     "text": [
      "La proportion de diabétiques est de : 7.19 %\n"
     ]
    }
   ],
   "source": [
    "diabetes_prop = df.diabetes.mean()*100\n",
    "print(\"La proportion de diabétiques est de : {:.2f} %\".format(diabetes_prop))"
   ]
  },
  {
   "cell_type": "code",
   "execution_count": 87,
   "metadata": {},
   "outputs": [
    {
     "name": "stdout",
     "output_type": "stream",
     "text": [
      "La proportion d'alcoolique est de : 3.04 %\n"
     ]
    }
   ],
   "source": [
    "alcoolique_prop = df1.alcoolique.mean()*100\n",
    "print(\"La proportion d'alcoolique est de : {:.2f} %\".format(alcoolique_prop))"
   ]
  },
  {
   "cell_type": "code",
   "execution_count": 88,
   "metadata": {},
   "outputs": [
    {
     "name": "stdout",
     "output_type": "stream",
     "text": [
      "La proportion de handicapés est de : 2.22 %\n"
     ]
    }
   ],
   "source": [
    "handicap_prop = df1.handicapé.mean()*100\n",
    "print(\"La proportion de handicapés est de : {:.2f} %\".format(handicap_prop))"
   ]
  },
  {
   "cell_type": "code",
   "execution_count": 89,
   "metadata": {},
   "outputs": [
    {
     "data": {
      "image/png": "[encoded data removed]",
      "text/plain": [
       "<Figure size 432x288 with 1 Axes>"
      ]
     },
     "metadata": {
      "needs_background": "light"
     },
     "output_type": "display_data"
    }
   ],
   "source": [
    "colors = ['blue', 'orange', 'yellow', 'green']\n",
    "locations = [1, 2, 3, 4]\n",
    "heights = [hyper_prop, diabetes_prop, alcoolique_prop, handicap_prop]\n",
    "labels = ['Hypertension', 'Diabètes', 'Alcoolisme', 'Handicap']\n",
    "\n",
    "plt.bar(locations,heights,color=colors, alpha=0.7);\n",
    "plt.title('Proportions des maladies représentées lors des RV')\n",
    "plt.xlabel('Maladie', fontsize=18)\n",
    "plt.ylabel(\"Taux de présence\", fontsize=18)\n",
    "plt.xticks(locations, labels);"
   ]
  },
  {
   "cell_type": "markdown",
   "metadata": {},
   "source": [
    "*On peut nettement voir que l'**hypertension** est la maladie la plus fréquente chez les patients qui viennent aux RV !🤔 Intéressant !* "
   ]
  },
  {
   "cell_type": "markdown",
   "metadata": {},
   "source": [
    "#### QR 4 : Quels âges sont les plus touchés par ces maladies (hypertension, diabète, alcoolisme, handicap) ?"
   ]
  },
  {
   "cell_type": "markdown",
   "metadata": {},
   "source": [
    "*Pour chaque maladie on créera on confrontera cette dernière à la variale `age`.*"
   ]
  },
  {
   "cell_type": "code",
   "execution_count": 90,
   "metadata": {},
   "outputs": [
    {
     "data": {
      "image/png": "[encoded data removed]",
      "text/plain": [
       "<Figure size 432x288 with 1 Axes>"
      ]
     },
     "metadata": {
      "needs_background": "light"
     },
     "output_type": "display_data"
    }
   ],
   "source": [
    "# Graphe distribution age des hypeterendus\n",
    "\n",
    "df1.age[df1.hypertendu == 1].hist(bins = 10, label = 'hypertension' ,color='tab:orange');\n",
    "plt.title('Distribution age - hypertension ')\n",
    "plt.xlabel('Age', fontsize=18);\n",
    "plt.ylabel('Patients hypertendus', fontsize=18);\n",
    "plt.legend();"
   ]
  },
  {
   "cell_type": "code",
   "execution_count": 91,
   "metadata": {},
   "outputs": [
    {
     "data": {
      "image/png": "[encoded data removed]",
      "text/plain": [
       "<Figure size 432x288 with 1 Axes>"
      ]
     },
     "metadata": {
      "needs_background": "light"
     },
     "output_type": "display_data"
    }
   ],
   "source": [
    "# Graphe distribution age des diabètiques\n",
    "\n",
    "df1.age[df1.diabetique == 1].hist(bins = 10, label = 'diabetes' );\n",
    "plt.title('Distribution age-diabétique')\n",
    "plt.xlabel('Age', fontsize=18);\n",
    "plt.ylabel('Patients diabètiques', fontsize=18);\n",
    "plt.legend();"
   ]
  },
  {
   "cell_type": "code",
   "execution_count": 92,
   "metadata": {},
   "outputs": [
    {
     "data": {
      "image/png": "[encoded data removed]",
      "text/plain": [
       "<Figure size 432x288 with 1 Axes>"
      ]
     },
     "metadata": {
      "needs_background": "light"
     },
     "output_type": "display_data"
    }
   ],
   "source": [
    "# Graphe distribution des ages des patients à dépendances alcooliques\n",
    "\n",
    "df1.age[df1.alcoolique == 1].hist(bins = 10, label = 'alcoholism', color='purple');\n",
    "plt.title('Distribution age-alcoolique')\n",
    "plt.xlabel('Age', fontsize=18);\n",
    "plt.ylabel('Patients à dépendances alcooliques ', fontsize=18);\n",
    "plt.legend();"
   ]
  },
  {
   "cell_type": "code",
   "execution_count": 93,
   "metadata": {},
   "outputs": [
    {
     "data": {
      "image/png": "[encoded data removed]",
      "text/plain": [
       "<Figure size 432x288 with 1 Axes>"
      ]
     },
     "metadata": {
      "needs_background": "light"
     },
     "output_type": "display_data"
    }
   ],
   "source": [
    "# Graphe distribution des ages des patients à mobilité réduites\n",
    "\n",
    "df1.age[df1.handicapé == 1].hist(bins = 10, label = 'andicap', color='pink');\n",
    "plt.title('Distribution age-handicapé')\n",
    "plt.xlabel('Age', fontsize=18);\n",
    "plt.ylabel('Patients à mobilité réduites', fontsize=18);\n",
    "plt.legend();"
   ]
  },
  {
   "cell_type": "markdown",
   "metadata": {},
   "source": [
    "*On conclut que les ages compris entre **40 et 80 ans** sont les plus touchés par les pathélogies.*"
   ]
  },
  {
   "cell_type": "markdown",
   "metadata": {},
   "source": [
    "#### QR 5 : Cependant, la maladie a t-elle un impact sur le taux de présence aux rendez-vous ?"
   ]
  },
  {
   "cell_type": "code",
   "execution_count": 94,
   "metadata": {},
   "outputs": [
    {
     "name": "stdout",
     "output_type": "stream",
     "text": [
      "hypertendu\n",
      "0    0.790961\n",
      "1    0.826980\n",
      "Name: présent, dtype: float64\n",
      "----------------------------------------------------\n"
     ]
    },
    {
     "data": {
      "image/png": "[encoded data removed]",
      "text/plain": [
       "<Figure size 432x288 with 1 Axes>"
      ]
     },
     "metadata": {
      "needs_background": "light"
     },
     "output_type": "display_data"
    },
    {
     "name": "stdout",
     "output_type": "stream",
     "text": [
      "diabetique\n",
      "0    0.796370\n",
      "1    0.819967\n",
      "Name: présent, dtype: float64\n",
      "----------------------------------------------------\n"
     ]
    },
    {
     "data": {
      "image/png": "[encoded data removed]",
      "text/plain": [
       "<Figure size 432x288 with 1 Axes>"
      ]
     },
     "metadata": {
      "needs_background": "light"
     },
     "output_type": "display_data"
    },
    {
     "name": "stdout",
     "output_type": "stream",
     "text": [
      "handicapé\n",
      "0    0.797645\n",
      "1    0.820764\n",
      "2    0.797814\n",
      "3    0.769231\n",
      "4    0.666667\n",
      "Name: présent, dtype: float64\n",
      "----------------------------------------------------\n"
     ]
    },
    {
     "data": {
      "image/png": "[encoded data removed]",
      "text/plain": [
       "<Figure size 432x288 with 1 Axes>"
      ]
     },
     "metadata": {
      "needs_background": "light"
     },
     "output_type": "display_data"
    },
    {
     "name": "stdout",
     "output_type": "stream",
     "text": [
      "alcoolique\n",
      "0    0.798052\n",
      "1    0.798512\n",
      "Name: présent, dtype: float64\n",
      "----------------------------------------------------\n"
     ]
    },
    {
     "data": {
      "image/png": "[encoded data removed]",
      "text/plain": [
       "<Figure size 432x288 with 1 Axes>"
      ]
     },
     "metadata": {
      "needs_background": "light"
     },
     "output_type": "display_data"
    }
   ],
   "source": [
    "maladies = ['hypertendu','diabetique','handicapé', 'alcoolique']\n",
    "\n",
    "for maladie in maladies : \n",
    "    color1 = ['purple', 'orange']\n",
    "    color2= ['blue', 'orange', 'yellow', 'green', 'pink']\n",
    "    label = ['Non','Oui']\n",
    "    title = [0,1]\n",
    "    \n",
    "    print(df1.groupby(maladie)['présent'].mean())\n",
    "    print('----------------------------------------------------')\n",
    "    if maladie == 'handicapé' :\n",
    "        color1,label,title=color2,[0,1,2,3,4],[0,1,2,3,4]\n",
    "    df1.groupby(maladie)['présent'].mean().plot(kind='bar', alpha=.7, color=color1);\n",
    "\n",
    "    # title and labels\n",
    "    plt.xticks(title, label)\n",
    "    plt.title('Présence observée des {}s'.format(maladie));\n",
    "    plt.ylabel('Taux de présence', fontsize=18)\n",
    "    plt.xlabel(maladie, fontsize=18);\n",
    "    plt.show()"
   ]
  },
  {
   "cell_type": "markdown",
   "metadata": {},
   "source": [
    "*Apparement cette approche n'est pas assez pointu car on ne sent pas une très grande différence entre les différentes modalités de nos variables pathologiques !* 😂"
   ]
  },
  {
   "cell_type": "markdown",
   "metadata": {},
   "source": [
    "#### QR 6 : Maintenant, comment se comportent ces pathologies en fonction du sexe  ?"
   ]
  },
  {
   "cell_type": "code",
   "execution_count": 95,
   "metadata": {},
   "outputs": [
    {
     "name": "stdout",
     "output_type": "stream",
     "text": [
      "genre\n",
      "F    0.213519\n",
      "M    0.167033\n",
      "Name: hypertendu, dtype: float64\n",
      "----------------------------------------------------\n"
     ]
    },
    {
     "data": {
      "image/png": "[encoded data removed]",
      "text/plain": [
       "<Figure size 432x288 with 1 Axes>"
      ]
     },
     "metadata": {
      "needs_background": "light"
     },
     "output_type": "display_data"
    },
    {
     "name": "stdout",
     "output_type": "stream",
     "text": [
      "genre\n",
      "F    0.078036\n",
      "M    0.060408\n",
      "Name: diabetique, dtype: float64\n",
      "----------------------------------------------------\n"
     ]
    },
    {
     "data": {
      "image/png": "[encoded data removed]",
      "text/plain": [
       "<Figure size 432x288 with 1 Axes>"
      ]
     },
     "metadata": {
      "needs_background": "light"
     },
     "output_type": "display_data"
    },
    {
     "name": "stdout",
     "output_type": "stream",
     "text": [
      "genre\n",
      "F    0.019544\n",
      "M    0.027270\n",
      "Name: handicapé, dtype: float64\n",
      "----------------------------------------------------\n"
     ]
    },
    {
     "data": {
      "image/png": "[encoded data removed]",
      "text/plain": [
       "<Figure size 432x288 with 1 Axes>"
      ]
     },
     "metadata": {
      "needs_background": "light"
     },
     "output_type": "display_data"
    },
    {
     "name": "stdout",
     "output_type": "stream",
     "text": [
      "genre\n",
      "F    0.017024\n",
      "M    0.055238\n",
      "Name: alcoolique, dtype: float64\n",
      "----------------------------------------------------\n"
     ]
    },
    {
     "data": {
      "image/png": "[encoded data removed]",
      "text/plain": [
       "<Figure size 432x288 with 1 Axes>"
      ]
     },
     "metadata": {
      "needs_background": "light"
     },
     "output_type": "display_data"
    }
   ],
   "source": [
    "maladies = ['hypertendu','diabetique','handicapé', 'alcoolique']\n",
    "\n",
    "for maladie in maladies : \n",
    "    color1 = ['purple', 'orange']\n",
    "    color2= ['blue', 'orange', 'yellow', 'green', 'pink']\n",
    "    label = ['Femme','Homme']\n",
    "    title = [0,1]\n",
    "    \n",
    "    print(df1.groupby('genre')[maladie].mean())\n",
    "    print('----------------------------------------------------')\n",
    "    \n",
    "    df1.groupby('genre')[maladie].mean().plot(kind='bar', alpha=.7, color=color1);\n",
    "\n",
    "    # title and labels\n",
    "    plt.xticks(title, label)\n",
    "    plt.title('{}s par Genre'.format(maladie));\n",
    "    plt.ylabel(maladie, fontsize=18)\n",
    "    plt.xlabel('Genre', fontsize=18);\n",
    "    plt.show()\n",
    "\n"
   ]
  },
  {
   "cell_type": "markdown",
   "metadata": {},
   "source": [
    "<hr>"
   ]
  },
  {
   "cell_type": "markdown",
   "metadata": {},
   "source": [
    "#### QR 7 : La bourse pourrait-elle être le facteur déterminant à la présence des patients aux RV ?"
   ]
  },
  {
   "cell_type": "code",
   "execution_count": 96,
   "metadata": {},
   "outputs": [
    {
     "data": {
      "text/plain": [
       "0    99665\n",
       "1    10861\n",
       "Name: bourse, dtype: int64"
      ]
     },
     "execution_count": 96,
     "metadata": {},
     "output_type": "execute_result"
    }
   ],
   "source": [
    "df1.bourse.value_counts()"
   ]
  },
  {
   "cell_type": "code",
   "execution_count": 97,
   "metadata": {},
   "outputs": [
    {
     "name": "stdout",
     "output_type": "stream",
     "text": [
      "Le pourcentage de patients couverts par la bourse est de : 0.10 %\n"
     ]
    }
   ],
   "source": [
    "boursier_prop = df1.bourse.value_counts()[1] / df1.shape[0]\n",
    "print(\"Le pourcentage de patients couverts par la bourse est de : {:.2f} %\".format(boursier_prop))"
   ]
  },
  {
   "cell_type": "code",
   "execution_count": 98,
   "metadata": {},
   "outputs": [
    {
     "name": "stdout",
     "output_type": "stream",
     "text": [
      "Le pourcentage de patients non boursiers est de : 0.90 %\n"
     ]
    }
   ],
   "source": [
    "nboursier_prop = df1.bourse.value_counts()[0] / df1.shape[0]\n",
    "print(\"Le pourcentage de patients non boursiers est de : {:.2f} %\".format(nboursier_prop))"
   ]
  },
  {
   "cell_type": "code",
   "execution_count": 99,
   "metadata": {},
   "outputs": [
    {
     "data": {
      "image/png": "[encoded data removed]",
      "text/plain": [
       "<Figure size 432x288 with 1 Axes>"
      ]
     },
     "metadata": {
      "needs_background": "light"
     },
     "output_type": "display_data"
    }
   ],
   "source": [
    "nboursier_plot = plt.bar(0, nboursier_prop, width=.3, alpha=0.7, color ='green', label='Non Boursiers' )\n",
    "boursier_plot = plt.bar(1, boursier_prop, width=.3, alpha=0.7, color='pink', label='Boursiers')\n",
    "\n",
    "# title and labels\n",
    "plt.xticks([0, 1], ['Non', 'Oui'])\n",
    "plt.xlabel('Bourse', fontsize=18)\n",
    "plt.ylabel('Taux', fontsize=18)\n",
    "plt.title('Proportions de boursiers');\n",
    "plt.legend();"
   ]
  },
  {
   "cell_type": "code",
   "execution_count": 100,
   "metadata": {},
   "outputs": [
    {
     "name": "stdout",
     "output_type": "stream",
     "text": [
      "bourse\n",
      "0    0.801926\n",
      "1    0.762637\n",
      "Name: présent, dtype: float64\n",
      "-----------------------------------------------\n"
     ]
    },
    {
     "data": {
      "image/png": "[encoded data removed]",
      "text/plain": [
       "<Figure size 432x288 with 1 Axes>"
      ]
     },
     "metadata": {
      "needs_background": "light"
     },
     "output_type": "display_data"
    }
   ],
   "source": [
    "print(df1.groupby('bourse').présent.mean())\n",
    "print('-----------------------------------------------')\n",
    "df1.groupby('bourse').présent.mean().plot(kind='bar', alpha=.7, color=['purple', 'orange']);\n",
    "\n",
    "# title and labels 775387491\n",
    "plt.xticks([0, 1], ['Non', 'Oui'])\n",
    "plt.title('Taux de présence selon que le patient soit boursier ou pas')\n",
    "plt.xlabel('Couvert par la bourse', fontsize=18)\n",
    "plt.ylabel('Taux de présence', fontsize=18);"
   ]
  },
  {
   "cell_type": "markdown",
   "metadata": {},
   "source": [
    "*Les patients non boursiers sont plus favorables à la présence aux RV que les patients boursiers avec respectivement près **80.19 %** contre **76.26 %** chez les boursiers. Ce qui est considérable pour la suite.* 🤔"
   ]
  },
  {
   "cell_type": "markdown",
   "metadata": {},
   "source": [
    "*Nous savons maintenant sue la bourse est un facteur à tenir en compte pour déterminer la présence ou non des patients. Nous allons donc vérifier sa corrélation avec la variable `age`.*"
   ]
  },
  {
   "cell_type": "code",
   "execution_count": 101,
   "metadata": {},
   "outputs": [
    {
     "name": "stdout",
     "output_type": "stream",
     "text": [
      "genre\n",
      "F    0.123234\n",
      "M    0.051904\n",
      "Name: bourse, dtype: float64\n",
      "--------------------------------------------\n"
     ]
    },
    {
     "data": {
      "image/png": "[encoded data removed]",
      "text/plain": [
       "<Figure size 432x288 with 1 Axes>"
      ]
     },
     "metadata": {
      "needs_background": "light"
     },
     "output_type": "display_data"
    }
   ],
   "source": [
    "print(df1.groupby('genre').bourse.mean())\n",
    "print('--------------------------------------------')\n",
    "df1.groupby('genre').bourse.mean().plot(alpha=0.7, color = ['blue', 'orange'], kind='bar');\n",
    "\n",
    "# title and labels\n",
    "plt.xticks([0,1], ['Femmes', 'Hommes'])\n",
    "plt.title('Distibution genre-bourse ')\n",
    "plt.xlabel('Genre', fontsize=18);\n",
    "plt.ylabel('Taux de boursiers', fontsize=18);"
   ]
  },
  {
   "cell_type": "markdown",
   "metadata": {},
   "source": [
    "*Un écart net qui montre que le taux de boursier chez les femmes (**12 %**) sont plus nombreux que chez les hommes(**5 %**)*.😒\n",
    "Un écart significatif égaleent dans la determination de la présence ou la présence (hétérogénéité)."
   ]
  },
  {
   "cell_type": "markdown",
   "metadata": {},
   "source": [
    "*Nous allons procéder de la même manière, sur avec cette fois la variable `age`.*"
   ]
  },
  {
   "cell_type": "code",
   "execution_count": 102,
   "metadata": {},
   "outputs": [
    {
     "data": {
      "text/plain": [
       "genre  handicapé\n",
       "F      0            70549\n",
       "       1             1181\n",
       "       2              105\n",
       "       3                3\n",
       "       4                1\n",
       "M      0            37736\n",
       "       1              861\n",
       "       2               78\n",
       "       3               10\n",
       "       4                2\n",
       "Name: présent, dtype: int64"
      ]
     },
     "execution_count": 102,
     "metadata": {},
     "output_type": "execute_result"
    }
   ],
   "source": [
    "# Obtenir les handicapés présents par genre\n",
    "handi_count = df1.groupby(['genre', 'handicapé']).count()['présent']\n",
    "handi_count"
   ]
  },
  {
   "cell_type": "code",
   "execution_count": 103,
   "metadata": {},
   "outputs": [
    {
     "data": {
      "text/plain": [
       "genre\n",
       "F    71839\n",
       "M    38687\n",
       "Name: présent, dtype: int64"
      ]
     },
     "execution_count": 103,
     "metadata": {},
     "output_type": "execute_result"
    }
   ],
   "source": [
    "handi_total = df1.groupby('genre').count()['présent']\n",
    "handi_total"
   ]
  },
  {
   "cell_type": "code",
   "execution_count": 104,
   "metadata": {},
   "outputs": [
    {
     "name": "stdout",
     "output_type": "stream",
     "text": [
      "Hommes \n",
      "handicapé\n",
      "0    0.975418\n",
      "1    0.022256\n",
      "2    0.002016\n",
      "3    0.000258\n",
      "4    0.000052\n",
      "Name: présent, dtype: float64\n",
      "------------------------------------------------\n",
      "Femmes \n",
      "handicapé\n",
      "0    0.982043\n",
      "1    0.016440\n",
      "2    0.001462\n",
      "3    0.000042\n",
      "4    0.000014\n",
      "Name: présent, dtype: float64  Femmes\n"
     ]
    }
   ],
   "source": [
    "h_handi_prop = handi_count['M'] / handi_total['M']\n",
    "print('Hommes ')\n",
    "print(h_handi_prop)\n",
    "print('------------------------------------------------')\n",
    "print('Femmes ')\n",
    "f_handi_prop = handi_count['F'] / handi_total['F']\n",
    "print(f_handi_prop,' Femmes')"
   ]
  },
  {
   "cell_type": "code",
   "execution_count": 105,
   "metadata": {},
   "outputs": [],
   "source": [
    "index = np.arange(len(h_handi_prop))"
   ]
  },
  {
   "cell_type": "code",
   "execution_count": 106,
   "metadata": {},
   "outputs": [
    {
     "data": {
      "image/png": "[encoded data removed]",
      "text/plain": [
       "<Figure size 432x288 with 1 Axes>"
      ]
     },
     "metadata": {
      "needs_background": "light"
     },
     "output_type": "display_data"
    }
   ],
   "source": [
    "Homme_bars = plt.bar(index,h_handi_prop, 0.35, alpha=0.7, color='orange', label='Hommes')\n",
    "Femme_bars = plt.bar(index+0.35, f_handi_prop, 0.35, alpha=0.7, color ='blue', label='Femmes' )\n",
    "\n",
    "\n",
    "# title and labels\n",
    "\n",
    "plt.xlabel('Niveau de handicap ', fontsize=18)\n",
    "plt.ylabel('Proportions', fontsize=18)\n",
    "plt.title('Proportions par genre et par handicap');\n",
    "locations = index + 0.35/2\n",
    "labels = [0, 1, 2, 3, 4]\n",
    "plt.xticks(locations, labels)\n",
    "plt.legend();"
   ]
  },
  {
   "cell_type": "code",
   "execution_count": 107,
   "metadata": {},
   "outputs": [
    {
     "data": {
      "text/html": [
       "<div>\n",
       "<style scoped>\n",
       "    .dataframe tbody tr th:only-of-type {\n",
       "        vertical-align: middle;\n",
       "    }\n",
       "\n",
       "    .dataframe tbody tr th {\n",
       "        vertical-align: top;\n",
       "    }\n",
       "\n",
       "    .dataframe thead th {\n",
       "        text-align: right;\n",
       "    }\n",
       "</style>\n",
       "<table border=\"1\" class=\"dataframe\">\n",
       "  <thead>\n",
       "    <tr style=\"text-align: right;\">\n",
       "      <th></th>\n",
       "      <th>présent</th>\n",
       "      <th>age</th>\n",
       "    </tr>\n",
       "  </thead>\n",
       "  <tbody>\n",
       "    <tr>\n",
       "      <th>count</th>\n",
       "      <td>110526.000000</td>\n",
       "      <td>110526.000000</td>\n",
       "    </tr>\n",
       "    <tr>\n",
       "      <th>mean</th>\n",
       "      <td>0.798066</td>\n",
       "      <td>37.089219</td>\n",
       "    </tr>\n",
       "    <tr>\n",
       "      <th>std</th>\n",
       "      <td>0.401445</td>\n",
       "      <td>23.110026</td>\n",
       "    </tr>\n",
       "    <tr>\n",
       "      <th>min</th>\n",
       "      <td>0.000000</td>\n",
       "      <td>0.000000</td>\n",
       "    </tr>\n",
       "    <tr>\n",
       "      <th>25%</th>\n",
       "      <td>1.000000</td>\n",
       "      <td>18.000000</td>\n",
       "    </tr>\n",
       "    <tr>\n",
       "      <th>50%</th>\n",
       "      <td>1.000000</td>\n",
       "      <td>37.000000</td>\n",
       "    </tr>\n",
       "    <tr>\n",
       "      <th>75%</th>\n",
       "      <td>1.000000</td>\n",
       "      <td>55.000000</td>\n",
       "    </tr>\n",
       "    <tr>\n",
       "      <th>max</th>\n",
       "      <td>1.000000</td>\n",
       "      <td>115.000000</td>\n",
       "    </tr>\n",
       "  </tbody>\n",
       "</table>\n",
       "</div>"
      ],
      "text/plain": [
       "             présent            age\n",
       "count  110526.000000  110526.000000\n",
       "mean        0.798066      37.089219\n",
       "std         0.401445      23.110026\n",
       "min         0.000000       0.000000\n",
       "25%         1.000000      18.000000\n",
       "50%         1.000000      37.000000\n",
       "75%         1.000000      55.000000\n",
       "max         1.000000     115.000000"
      ]
     },
     "execution_count": 107,
     "metadata": {},
     "output_type": "execute_result"
    }
   ],
   "source": [
    "df1[['présent', 'age']].describe()"
   ]
  },
  {
   "cell_type": "code",
   "execution_count": 133,
   "metadata": {},
   "outputs": [
    {
     "data": {
      "text/plain": [
       "True"
      ]
     },
     "execution_count": 133,
     "metadata": {},
     "output_type": "execute_result"
    }
   ],
   "source": [
    "# Intervalles de découpage des ages\n",
    "decoup_age = [-1, 2, 12, 19, 39, 59, 115 ]\n",
    "\n",
    "# labels des tranches d'âges\n",
    "tranches = ['nourrissons', 'enfants', 'ados', 'jeunes', 'adultes', 'plus âgés']\n",
    "\n",
    "# Création du dataframe\n",
    "df1['age_group'] = pd.cut(df1['age'], decoup_age, labels=tranches)\n",
    "\n",
    "\n",
    "# Vérifier si tous les échantillons sont inclus - La valeur vraie (True) est attendu.\n",
    "df1.shape[0] == df1.query('age_group == \"nourrissons\"').age.count() + df1.query('age_group == \"enfants\"').age.count() + df1.query('age_group == \"ados\"').age.count()+ df1.query('age_group == \"jeunes\"').age.count()+ df1.query('age_group == \"adultes\"').age.count() + df1.query('age_group == \"plus âgés\"').age.count()"
   ]
  },
  {
   "cell_type": "code",
   "execution_count": 115,
   "metadata": {},
   "outputs": [
    {
     "data": {
      "text/plain": [
       "age_group\n",
       "nourrissons    0.824226\n",
       "enfants        0.779436\n",
       "ados           0.740373\n",
       "jeunes         0.768618\n",
       "adultes        0.811918\n",
       "plus âgés      0.846880\n",
       "Name: présent, dtype: float64"
      ]
     },
     "execution_count": 115,
     "metadata": {},
     "output_type": "execute_result"
    }
   ],
   "source": [
    "# Obtenir la proportion de présence pour chaque groupe d'âges\n",
    "moy_par_groupe = df1.groupby('age_group')['présent'].mean()\n",
    "moy_par_groupe"
   ]
  },
  {
   "cell_type": "code",
   "execution_count": 116,
   "metadata": {},
   "outputs": [
    {
     "data": {
      "image/png": "[encoded data removed]",
      "text/plain": [
       "<Figure size 432x288 with 1 Axes>"
      ]
     },
     "metadata": {
      "needs_background": "light"
     },
     "output_type": "display_data"
    }
   ],
   "source": [
    "# Vue graphique\n",
    "\n",
    "moy_par_groupe.plot(kind='bar', alpha=.7);\n",
    "\n",
    "# title and labels\n",
    "plt.xticks([0, 1, 2, 3, 4, 5] , tranches)\n",
    "plt.title(\"Taux de présence par tranche d'âge\");\n",
    "plt.ylabel('Taux de pointage', fontsize=18)\n",
    "plt.xlabel(\"Catégories d'âge\", fontsize=18);"
   ]
  },
  {
   "cell_type": "markdown",
   "metadata": {},
   "source": [
    "*On peut observer clairement que les **plus âgés**, les **nourrissons** et les **enfants** sont les assidus aux RV.* 😬 *Ce qui peut facilement s'expliquer, une réalité même dans nos sociétés africaines à majorité jeune*."
   ]
  },
  {
   "cell_type": "markdown",
   "metadata": {},
   "source": [
    "*Allons plus loin dans l'analyse avec les pourcentages pour mieux voir cette différence.*"
   ]
  },
  {
   "cell_type": "code",
   "execution_count": 117,
   "metadata": {},
   "outputs": [
    {
     "data": {
      "text/plain": [
       "adultes        30072\n",
       "jeunes         28870\n",
       "plus âgés      21173\n",
       "enfants        13606\n",
       "ados            9375\n",
       "nourrissons     7430\n",
       "Name: age_group, dtype: int64"
      ]
     },
     "execution_count": 117,
     "metadata": {},
     "output_type": "execute_result"
    }
   ],
   "source": [
    "df1.age_group.value_counts()"
   ]
  },
  {
   "cell_type": "code",
   "execution_count": 118,
   "metadata": {},
   "outputs": [
    {
     "name": "stdout",
     "output_type": "stream",
     "text": [
      "------------------------------------------------------------\n",
      "Le pourcentage de présence des nourrissonss est de : 6.72 %\n",
      "------------------------------------------------------------\n",
      "Le pourcentage de présence des enfantss est de : 12.31 %\n",
      "------------------------------------------------------------\n",
      "Le pourcentage de présence des adoss est de : 8.48 %\n",
      "------------------------------------------------------------\n",
      "Le pourcentage de présence des jeuness est de : 26.12 %\n",
      "------------------------------------------------------------\n",
      "Le pourcentage de présence des adultess est de : 27.21 %\n",
      "------------------------------------------------------------\n",
      "Le pourcentage de présence des plus âgéss est de : 19.16 %\n",
      "============================================================\n",
      "Le Total fait naturellement : 100.0 %\n"
     ]
    }
   ],
   "source": [
    "total=0\n",
    "for tranche in tranches :\n",
    "    print('------------------------------------------------------------')\n",
    "    print(\"Le pourcentage de présence des {}s est de : {:.2f} %\".format(tranche , df1.age_group.value_counts()[tranche]/df1.shape[0]*100))\n",
    "    total= total + df1.age_group.value_counts()[tranche]/df1.shape[0]*100\n",
    "print('============================================================')\n",
    "print('Le Total fait naturellement : {} %'.format(total))"
   ]
  },
  {
   "cell_type": "code",
   "execution_count": 119,
   "metadata": {},
   "outputs": [
    {
     "data": {
      "text/plain": [
       "0.2612055082062139"
      ]
     },
     "execution_count": 119,
     "metadata": {},
     "output_type": "execute_result"
    }
   ],
   "source": [
    " df1.age_group.value_counts()['jeunes']/df1.shape[0]"
   ]
  },
  {
   "cell_type": "code",
   "execution_count": 120,
   "metadata": {},
   "outputs": [
    {
     "data": {
      "image/png": "[encoded data removed]",
      "text/plain": [
       "<Figure size 432x288 with 1 Axes>"
      ]
     },
     "metadata": {
      "needs_background": "light"
     },
     "output_type": "display_data"
    }
   ],
   "source": [
    "# Vue graphique\n",
    "couleurs = ['blue','orange','yellow','green','magenta','brown']\n",
    "for tranche,couleur in zip(tranches,couleurs) :\n",
    "    plt.bar(tranches.index(tranche), df1.age_group.value_counts()[tranche]/df1.shape[0]*100, width=.3, alpha=0.7, color =couleur, label=tranche.capitalize())\n",
    "    #plt.bar(1, children_prop, width=.3, alpha=0.7, color='orange', label='Children')\n",
    "    \n",
    "\n",
    "# titre et labels\n",
    "plt.xticks([0, 1, 2, 3, 4, 5], tranches)\n",
    "plt.xlabel(\"Catégories d'âges\", fontsize=18)\n",
    "plt.ylabel('Proportion', fontsize=18)\n",
    "plt.title(\"Proportions de présence par catégorie d'âge\");\n",
    "plt.legend();"
   ]
  },
  {
   "cell_type": "markdown",
   "metadata": {},
   "source": [
    "#### QR 8 :  Étudions à présent la proportion de sms reçus !?"
   ]
  },
  {
   "cell_type": "code",
   "execution_count": 121,
   "metadata": {},
   "outputs": [
    {
     "data": {
      "text/plain": [
       "0    75044\n",
       "1    35482\n",
       "Name: sms_reçu, dtype: int64"
      ]
     },
     "execution_count": 121,
     "metadata": {},
     "output_type": "execute_result"
    }
   ],
   "source": [
    "df1.sms_reçu.value_counts()"
   ]
  },
  {
   "cell_type": "code",
   "execution_count": 122,
   "metadata": {},
   "outputs": [
    {
     "name": "stdout",
     "output_type": "stream",
     "text": [
      "La porportion de sms reçus est de : 32.10 %\n"
     ]
    }
   ],
   "source": [
    "print('La porportion de sms reçus est de : {:.2f} %'.format(df1.sms_reçu.value_counts()[1]/df1.shape[0]*100))"
   ]
  },
  {
   "cell_type": "code",
   "execution_count": 123,
   "metadata": {},
   "outputs": [
    {
     "name": "stdout",
     "output_type": "stream",
     "text": [
      "La porportion de sms non reçus est de : 67.90 %\n"
     ]
    }
   ],
   "source": [
    "print('La porportion de sms non reçus est de : {:.2f} %'.format(df1.sms_reçu.value_counts()[0]/df1.shape[0]*100))"
   ]
  },
  {
   "cell_type": "code",
   "execution_count": 124,
   "metadata": {},
   "outputs": [
    {
     "data": {
      "image/png": "[encoded data removed]",
      "text/plain": [
       "<Figure size 432x288 with 1 Axes>"
      ]
     },
     "metadata": {
      "needs_background": "light"
     },
     "output_type": "display_data"
    }
   ],
   "source": [
    "plt.bar(0, df1.sms_reçu.value_counts()[1]/df1.shape[0]*100, width=.3, alpha=0.7, color ='blue', label='sms reçu' )\n",
    "plt.bar(1, df1.sms_reçu.value_counts()[0]/df1.shape[0]*100, width=.3, alpha=0.7, color='orange', label='sms non reçu')\n",
    "\n",
    "# titre et labels\n",
    "plt.xticks([0, 1], ['Oui', 'Non'])\n",
    "plt.xlabel('sms reçu', fontsize=18)\n",
    "plt.ylabel('Taux', fontsize=18)\n",
    "plt.title('Proportions de sms reçus');\n",
    "plt.legend();"
   ]
  },
  {
   "cell_type": "markdown",
   "metadata": {},
   "source": [
    "*Donc seulement **32.10 %** des patients reçoivent des sms. Intrigant !* 🤔"
   ]
  },
  {
   "cell_type": "code",
   "execution_count": 125,
   "metadata": {},
   "outputs": [
    {
     "name": "stdout",
     "output_type": "stream",
     "text": [
      "sms_reçu\n",
      "0    0.832965\n",
      "1    0.724255\n",
      "Name: présent, dtype: float64\n",
      "----------------------------------------\n"
     ]
    },
    {
     "data": {
      "image/png": "[encoded data removed]",
      "text/plain": [
       "<Figure size 432x288 with 1 Axes>"
      ]
     },
     "metadata": {
      "needs_background": "light"
     },
     "output_type": "display_data"
    }
   ],
   "source": [
    "print(df1.groupby('sms_reçu')['présent'].mean())\n",
    "print('----------------------------------------')\n",
    "df1.groupby('sms_reçu')['présent'].mean().plot(kind='bar', alpha=.7, color=['grey', 'blue']);\n",
    "plt.xticks([0, 1], ['Non', 'Oui'])\n",
    "plt.title(\"Taux de présence selon la reception ou non d'un sms\");\n",
    "plt.xlabel('sms reçu', fontsize=18)\n",
    "plt.ylabel('Taux de présence', fontsize=18);"
   ]
  },
  {
   "cell_type": "markdown",
   "metadata": {},
   "source": [
    "Une différence visibble entre les présents et les absents. Car **72.42 %** de ceux qui ont reçu des sms sont présents contre **83.29 %** de ceux qui n'ont pas reçus de sms. Soit une différence d'à peu près **10.87 %**, ce qui assez considérable pour une population de **110.527** patients. Autrement environ **1.144 patients seraient venus même s'ils n'ont pas reçu de sms. La reception de sms n'est pas determinant ou n'est pas la bonne technique pour attirer les patients.**."
   ]
  },
  {
   "cell_type": "markdown",
   "metadata": {},
   "source": [
    "#### QR 9 : Quelles sont les proportions et le tarif des spectacles par heure, jour, mois et année ?"
   ]
  },
  {
   "cell_type": "code",
   "execution_count": 126,
   "metadata": {},
   "outputs": [
    {
     "name": "stdout",
     "output_type": "stream",
     "text": [
      "7     0.173832\n",
      "8     0.138863\n",
      "9     0.116018\n",
      "10    0.100031\n",
      "14    0.082578\n",
      "13    0.081755\n",
      "11    0.076561\n",
      "15    0.073096\n",
      "16    0.050142\n",
      "12    0.049056\n",
      "17    0.026320\n",
      "6     0.014277\n",
      "18    0.012124\n",
      "19    0.004415\n",
      "20    0.000905\n",
      "21    0.000027\n",
      "Name: heure_prévue, dtype: float64\n"
     ]
    },
    {
     "data": {
      "image/png": "[encoded data removed]",
      "text/plain": [
       "<Figure size 432x288 with 1 Axes>"
      ]
     },
     "metadata": {
      "needs_background": "light"
     },
     "output_type": "display_data"
    }
   ],
   "source": [
    "print(df1.heure_prévue.value_counts(normalize=True))\n",
    "df1.heure_prévue.value_counts(normalize=True).plot(kind='bar', alpha=.7)\n",
    "\n",
    "# titre et labels\n",
    "plt.title('Taux de présence selon la date prévue');\n",
    "plt.xlabel('heure prévue', fontsize=18)\n",
    "plt.ylabel('Proportion', fontsize=18);"
   ]
  },
  {
   "cell_type": "markdown",
   "metadata": {},
   "source": [
    "*On remarque plus de rendez-vous prévuS en début de journée qu'en fin de journée, donc plus les heures passent moins il y a de rendez-vous prévus.*"
   ]
  },
  {
   "cell_type": "markdown",
   "metadata": {},
   "source": [
    "*Traduisons cela en terme de présence !*"
   ]
  },
  {
   "cell_type": "code",
   "execution_count": 127,
   "metadata": {},
   "outputs": [
    {
     "name": "stdout",
     "output_type": "stream",
     "text": [
      "heure_prévue\n",
      "6     0.807985\n",
      "7     0.848488\n",
      "8     0.817305\n",
      "9     0.803010\n",
      "10    0.779305\n",
      "11    0.772158\n",
      "12    0.796385\n",
      "13    0.790726\n",
      "14    0.773200\n",
      "15    0.768164\n",
      "16    0.762360\n",
      "17    0.751805\n",
      "18    0.787313\n",
      "19    0.766393\n",
      "20    0.700000\n",
      "21    0.666667\n",
      "Name: présent, dtype: float64\n"
     ]
    },
    {
     "data": {
      "image/png": "[encoded data removed]",
      "text/plain": [
       "<Figure size 432x288 with 1 Axes>"
      ]
     },
     "metadata": {
      "needs_background": "light"
     },
     "output_type": "display_data"
    }
   ],
   "source": [
    "# En terme de pourcentage\n",
    "print(df1.groupby('heure_prévue')['présent'].mean())\n",
    "df1.groupby('heure_prévue')['présent'].mean().plot(kind='bar', alpha=.7);\n",
    "\n",
    "# title and labels\n",
    "\n",
    "plt.title('Taux de pointage selon les heures de la journée');\n",
    "plt.xlabel('Herures prévues', fontsize=18)\n",
    "plt.ylabel('Taux de présence', fontsize=18);"
   ]
  },
  {
   "cell_type": "markdown",
   "metadata": {},
   "source": [
    "*On note qu'il y a plus de présence à **7h** et à **18h**. L'ensemble du graphique reste homogène. Les heures prévues semblent ne pas être determinantes pour prédire la présence ou non des patients*."
   ]
  },
  {
   "cell_type": "markdown",
   "metadata": {},
   "source": [
    "*Continuons avec les autres variables temporelles pour les dates prévus !* "
   ]
  },
  {
   "cell_type": "code",
   "execution_count": 128,
   "metadata": {},
   "outputs": [
    {
     "name": "stdout",
     "output_type": "stream",
     "text": [
      "jour_prévue\n",
      "Friday       0.794502\n",
      "Monday       0.802417\n",
      "Saturday     0.958333\n",
      "Thursday     0.795275\n",
      "Tuesday      0.797806\n",
      "Wednesday    0.798904\n",
      "Name: présent, dtype: float64\n"
     ]
    },
    {
     "data": {
      "image/png": "[encoded data removed]",
      "text/plain": [
       "<Figure size 432x288 with 1 Axes>"
      ]
     },
     "metadata": {
      "needs_background": "light"
     },
     "output_type": "display_data"
    },
    {
     "name": "stdout",
     "output_type": "stream",
     "text": [
      "mois_prévue\n",
      "1     0.700000\n",
      "2     0.708185\n",
      "3     0.669065\n",
      "4     0.690240\n",
      "5     0.825440\n",
      "6     0.899193\n",
      "11    1.000000\n",
      "12    0.688525\n",
      "Name: présent, dtype: float64\n"
     ]
    },
    {
     "data": {
      "image/png": "[encoded data removed]",
      "text/plain": [
       "<Figure size 432x288 with 1 Axes>"
      ]
     },
     "metadata": {
      "needs_background": "light"
     },
     "output_type": "display_data"
    },
    {
     "name": "stdout",
     "output_type": "stream",
     "text": [
      "an_prévu\n",
      "2015    0.693548\n",
      "2016    0.798124\n",
      "Name: présent, dtype: float64\n"
     ]
    },
    {
     "data": {
      "image/png": "[encoded data removed]",
      "text/plain": [
       "<Figure size 432x288 with 1 Axes>"
      ]
     },
     "metadata": {
      "needs_background": "light"
     },
     "output_type": "display_data"
    }
   ],
   "source": [
    "périodes = ['jour_prévue', 'mois_prévue', 'an_prévu']\n",
    "\n",
    "for période in périodes :\n",
    "    print(df1.groupby(période)['présent'].mean())\n",
    "    df1.groupby(période)['présent'].mean().plot(kind='bar', alpha=.7);\n",
    "\n",
    "    # title and labels\n",
    "\n",
    "    plt.title('Taux de pointage selon les {}s de la journée'.format(période));\n",
    "    plt.xlabel('{}'.format(période), fontsize=18)\n",
    "    plt.ylabel('Taux de présence', fontsize=18);\n",
    "    plt.show()"
   ]
  },
  {
   "cell_type": "markdown",
   "metadata": {},
   "source": [
    "**Analyse globale des variables temporelles**: <br>\n",
    ">* Pour les jours, les **Mercredi** sont les plus prisés , en raison peut être au temps libre accordé par le boulot ou l'école au niveau des patients ou des parents des patiens s'il s'agit des nourrissons et des enfants. <br>\n",
    "*Pour les mois **les fins d'années** acceuillent plus de patients respectant les rv, sauf le mois de Décembre, probablement en raison des fêtes de fin d'années et leur préparatif 24,25...31 Déc.<br>\n",
    "*Pour les années plus nous n'avons que deux ans, avec une évolution notoire d'à peu près de **10 %**. Ce qui nous permet de dire que **plus les années passents plus il y aura de patients présents aux RV**. Cela dû probablement aux campagnes de sensibilisations."
   ]
  },
  {
   "cell_type": "markdown",
   "metadata": {},
   "source": [
    "*Pour les dates où quelqu'un a appelé ou enregistré le rendez-vous, avant le rendez-vous bien sûr. On a :*"
   ]
  },
  {
   "cell_type": "code",
   "execution_count": 129,
   "metadata": {},
   "outputs": [
    {
     "name": "stdout",
     "output_type": "stream",
     "text": [
      "<bound method Series.sort_values of jour_rv\n",
      "Friday       0.787739\n",
      "Monday       0.793519\n",
      "Saturday     0.769231\n",
      "Thursday     0.806459\n",
      "Tuesday      0.799064\n",
      "Wednesday    0.803108\n",
      "Name: présent, dtype: float64>\n"
     ]
    },
    {
     "data": {
      "image/png": "[encoded data removed]",
      "text/plain": [
       "<Figure size 432x288 with 1 Axes>"
      ]
     },
     "metadata": {
      "needs_background": "light"
     },
     "output_type": "display_data"
    },
    {
     "name": "stdout",
     "output_type": "stream",
     "text": [
      "<bound method Series.sort_values of mois_rv\n",
      "4    0.804328\n",
      "5    0.792135\n",
      "6    0.815425\n",
      "Name: présent, dtype: float64>\n"
     ]
    },
    {
     "data": {
      "image/png": "[encoded data removed]",
      "text/plain": [
       "<Figure size 432x288 with 1 Axes>"
      ]
     },
     "metadata": {
      "needs_background": "light"
     },
     "output_type": "display_data"
    },
    {
     "name": "stdout",
     "output_type": "stream",
     "text": [
      "<bound method Series.sort_values of an_rv\n",
      "2016    0.798066\n",
      "Name: présent, dtype: float64>\n"
     ]
    },
    {
     "data": {
      "image/png": "[encoded data removed]",
      "text/plain": [
       "<Figure size 432x288 with 1 Axes>"
      ]
     },
     "metadata": {
      "needs_background": "light"
     },
     "output_type": "display_data"
    }
   ],
   "source": [
    "périodes = {'jour_rv':'jour du rendez-vous', 'mois_rv':'mois du rendez-vous', 'an_rv':'année du rendez-vous'}\n",
    "\n",
    "for période in périodes.keys() :\n",
    "    \n",
    "    print(df1.groupby(période)['présent'].mean().sort_values)\n",
    "    df1.groupby(période)['présent'].mean().plot(kind='bar', alpha=.7);\n",
    "\n",
    "    # title and labels\n",
    "\n",
    "    plt.title('Proportion de présence {}'.format(périodes[période]));\n",
    "    plt.xlabel(périodes[période], fontsize=18)\n",
    "    plt.ylabel('Taux de présence', fontsize=18);\n",
    "    plt.show()"
   ]
  },
  {
   "cell_type": "markdown",
   "metadata": {},
   "source": [
    "*Apparemment les graphiques parlent d'eux même!*"
   ]
  },
  {
   "cell_type": "markdown",
   "metadata": {},
   "source": [
    "#### QR 10 : Qu'en est -il maintenant des quartiers ? Y'a t'il des disparités sur leur taux de présence ou d'absence aux RV ?"
   ]
  },
  {
   "cell_type": "code",
   "execution_count": 130,
   "metadata": {},
   "outputs": [
    {
     "name": "stdout",
     "output_type": "stream",
     "text": [
      "Nous avons au total 81 quartiers recensés.\n",
      "------------------------------------------\n"
     ]
    },
    {
     "data": {
      "text/plain": [
       "quartier\n",
       "PARQUE INDUSTRIAL              1.000000\n",
       "ILHA DO BOI                    0.914286\n",
       "AEROPORTO                      0.875000\n",
       "MÁRIO CYPRESTE                 0.854447\n",
       "SOLON BORGES                   0.852878\n",
       "                                 ...   \n",
       "ITARARÉ                        0.737336\n",
       "SANTA CLARA                    0.735178\n",
       "SANTA CECÍLIA                  0.725446\n",
       "SANTOS DUMONT                  0.710815\n",
       "ILHAS OCEÂNICAS DE TRINDADE    0.000000\n",
       "Name: présent, Length: 81, dtype: float64"
      ]
     },
     "execution_count": 130,
     "metadata": {},
     "output_type": "execute_result"
    }
   ],
   "source": [
    "print(\"Nous avons au total {} quartiers recensés.\".format(df1['quartier'].nunique()))\n",
    "print('------------------------------------------')\n",
    "\n",
    "df1.groupby('quartier')['présent'].mean().sort_values(ascending=False)"
   ]
  },
  {
   "cell_type": "code",
   "execution_count": 131,
   "metadata": {},
   "outputs": [
    {
     "data": {
      "image/png": "[encoded data removed]",
      "text/plain": [
       "<Figure size 1440x432 with 1 Axes>"
      ]
     },
     "metadata": {
      "needs_background": "light"
     },
     "output_type": "display_data"
    }
   ],
   "source": [
    "# Vue graphique\n",
    "plt.figure(figsize = (20,6));\n",
    "df1.groupby('quartier')['présent'].mean().sort_values(ascending=False).plot(kind='bar', alpha=.7);\n",
    "\n",
    "# title and labels\n",
    "\n",
    "plt.ylabel('Taux de présence', fontsize=18)\n",
    "plt.xlabel('Quartiers', fontsize=18)\n",
    "plt.title('Proportion suivant les quartiers');"
   ]
  },
  {
   "cell_type": "markdown",
   "metadata": {},
   "source": [
    "*Apparement seul le quartier **PARQUE INDUSTRIAL** se voit toute sa population respecter les date de RV. Avec évidement un taux de participation de **100 %**.*"
   ]
  },
  {
   "cell_type": "markdown",
   "metadata": {},
   "source": [
    "### <a id='conclusions'></a>\n",
    "## Conclusions\n",
    "\n",
    "> **Résultats**:\n",
    ">* La majorité des patients à peu près 80 % (79.81 %) se présentent habituellement au rendez-vous prévu.<br>\n",
    ">* Les femmes et les hommes ont à peu près les même habitudes.<br>\n",
    ">* Les hommes sont plus atteints par l'alcoolisme par rapport aus femmes, presque le triple de ces dernières.<br>\n",
    ">* L'hypertension  est la maladie la plus fréquente lors des rendez-vous- près de 20 % (19.72 %). <br> \n",
    ">* Cela est suivi du diabète avec peu près de 8 % (7.19 %) qui comme l'hypertension, touche plus les femmes que les hommes.<br>\n",
    ">* Les patients qui ont un âge compris entre 40 et 60 ans sont les plus malades lors des RV.<br>\n",
    ">* Les hommes se retrouvent avec un plus grand nombre de handicapés, (2.72 % contre 1.95 % chez les femmes).<br>\n",
    ">* La réception de SMS semble ne pas être efficace car les non recepteurs de sms sont plus assidus aux RV. On trouve 1.144 patients qui seraient venus même s'ils ne reçoivent pas de sms.<br>\n",
    ">* Dans les RV, 90 % des patients ne sont pas couverts par la bourse et en plus on note 80.19 % des non-boursiers sont présents contre 76.26 % de présence chez les boursiers. La bourse semble être un facteur d'absence même si on observe une forte participation des boursiers.<br>\n",
    ">*Les débuts de journées sont les plus programmés, parmi les jours le Mercredi reçoit plus de visite etaussi les fins d'années sauf le mois de Décembre, dû peut-être aux préparatifs de fêtes de fin d'années.\n",
    ">*Le quartier PARQUE INDUSTRIAL est le quartier avec le taux de présence le plus haut aux rendez-vous.\n",
    "\n",
    "\n",
    "> **Limites**:<br>\n",
    ">* L'ensemble de données ne contient pas suffisamment de données pour toute l'année - seuls trois mois sont disponibles.\n",
    ">* L'ensemble de données contient certaines lignes avec les mois de planification 11 et 12 en 2015, alors que tous les rendez-vous sont en 2016.\n",
    ">* Aucune information sur l'heure de rendez-vous qui est peu être importante pour étudier par rapport au tarif du service.\n",
    ">* Si on pouvait avoir une troisième année à côté ça serait idéale pour voir plus clair sur l'évolution du taux d'absence ou de présence en fonction des années.<br>\n",
    "\n",
    "\n",
    "Référence : [Mostafa Refaat](https://www.kaggle.com/mostafarefaatm)"
   ]
  },
  {
   "cell_type": "markdown",
   "metadata": {},
   "source": [
    "![gif-minion.png](img/gif-minions.gif)"
   ]
  },
  {
   "cell_type": "code",
   "execution_count": 132,
   "metadata": {},
   "outputs": [
    {
     "data": {
      "text/plain": [
       "1"
      ]
     },
     "execution_count": 132,
     "metadata": {},
     "output_type": "execute_result"
    }
   ],
   "source": [
    "from subprocess import call\n",
    "call(['python', '-m', 'nbconvert', 'Investigate_a_Dataset.ipynb'])"
   ]
  },
  {
   "cell_type": "markdown",
   "metadata": {},
   "source": [
    "<center><h1><strong>Auteur</strong></h1></center>"
   ]
  },
  {
   "cell_type": "markdown",
   "metadata": {},
   "source": [
    "![author.png](img/Rooni2.png)"
   ]
  },
  {
   "cell_type": "markdown",
   "metadata": {},
   "source": [
    "*`Nom : `* **`DIATTA`**  <br>\n",
    "*`Prénom  :`* **`Arona Ben Cherif`** <br>\n",
    "*`Niveau : `* **`Master 2 | Statistiques et Informatique Décisionnelle (UADB)`**  <br>\n",
    "*`Nom de classe : `* **`ARONA_ADND`** <br>\n",
    "*`Promotion : `* **`Cohorte 2 ALX-Udacity`** <br>\n",
    "*`Nom de classe : `* **`ARONA_ADND`** <br>\n",
    "*`Programme : `* **`Nanodegree d'analyste de données`** <br>"
   ]
  }
 ],
 "metadata": {
  "kernelspec": {
   "display_name": "Python 3 (ipykernel)",
   "language": "python",
   "name": "python3"
  },
  "language_info": {
   "codemirror_mode": {
    "name": "ipython",
    "version": 3
   },
   "file_extension": ".py",
   "mimetype": "text/x-python",
   "name": "python",
   "nbconvert_exporter": "python",
   "pygments_lexer": "ipython3",
   "version": "3.9.12"
  }
 },
 "nbformat": 4,
 "nbformat_minor": 2
}
